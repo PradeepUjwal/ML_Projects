{
 "cells": [
  {
   "cell_type": "markdown",
   "id": "be1416e0-cd6e-4c0d-8bd1-c67d11689fef",
   "metadata": {},
   "source": [
    "Genpact Machine Learning Hackathon\n",
    "Your client is a meal delivery company which operates in multiple cities. They have various **fulfillment centers** in these cities for dispatching meal orders to their customers. The client wants you to help these centers with demand forecasting for upcoming weeks so that these centers will plan the stock of raw materials accordingly.\n",
    "\n",
    "The replenishment of majority of raw materials is done on weekly basis and since the raw material is perishable, the procurement planning is of utmost importance. Secondly, **staffing of the centers** is also one area wherein accurate demand forecasts are really helpful. Given the following information, the task is to predict the demand for the next 10 weeks (Weeks: 146-155) for the center-meal combinations in the test set:  \n",
    "\n",
    "Historical data of demand for a product-center combination (Weeks: 1 to 145)\n",
    "Product(Meal) features such as category, sub-category, current price and discount\n",
    "Information for fulfillment center like center area, city information etc."
   ]
  },
  {
   "cell_type": "code",
   "execution_count": 1,
   "id": "b603e609-4acf-45ba-a60e-1efd83a3a5fd",
   "metadata": {},
   "outputs": [],
   "source": [
    "# Import the Libaries"
   ]
  },
  {
   "cell_type": "code",
   "execution_count": 2,
   "id": "f7929507-9988-4305-9de4-c91ae960e99f",
   "metadata": {},
   "outputs": [],
   "source": [
    "import numpy as np \n",
    "import pandas as pd\n",
    "import seaborn as sns\n",
    "import matplotlib.pyplot as plt\n",
    "import warnings\n",
    "warnings.filterwarnings('ignore')"
   ]
  },
  {
   "cell_type": "code",
   "execution_count": 3,
   "id": "a51f17a0-04ed-468d-94c7-cef6ddbd0859",
   "metadata": {},
   "outputs": [],
   "source": [
    "train = pd.read_csv('/Users/pradeepujwalkumarkammadanam/Desktop/GL_Course/GL_ML/Day_5/train_GzS76OK (1)/train.csv')\n",
    "meal = pd.read_csv('/Users/pradeepujwalkumarkammadanam/Desktop/GL_Course/GL_ML/Day_5/train_GzS76OK (1)/meal_info.csv')\n",
    "centres = pd.read_csv('/Users/pradeepujwalkumarkammadanam/Desktop/GL_Course/GL_ML/Day_5/train_GzS76OK (1)/fulfilment_center_info.csv')\n",
    "sample = pd.read_csv('/Users/pradeepujwalkumarkammadanam/Desktop/GL_Course/GL_ML/Day_5/sample_submission_hSlSoT6 (1).csv')\n",
    "test = pd.read_csv('/Users/pradeepujwalkumarkammadanam/Desktop/GL_Course/GL_ML/Day_5/test_QoiMO9B (1).csv')"
   ]
  },
  {
   "cell_type": "code",
   "execution_count": 4,
   "id": "4033886e-255f-4fe5-9eac-20c6788bc61c",
   "metadata": {},
   "outputs": [
    {
     "data": {
      "text/html": [
       "<div>\n",
       "<style scoped>\n",
       "    .dataframe tbody tr th:only-of-type {\n",
       "        vertical-align: middle;\n",
       "    }\n",
       "\n",
       "    .dataframe tbody tr th {\n",
       "        vertical-align: top;\n",
       "    }\n",
       "\n",
       "    .dataframe thead th {\n",
       "        text-align: right;\n",
       "    }\n",
       "</style>\n",
       "<table border=\"1\" class=\"dataframe\">\n",
       "  <thead>\n",
       "    <tr style=\"text-align: right;\">\n",
       "      <th></th>\n",
       "      <th>id</th>\n",
       "      <th>week</th>\n",
       "      <th>center_id</th>\n",
       "      <th>meal_id</th>\n",
       "      <th>checkout_price</th>\n",
       "      <th>base_price</th>\n",
       "      <th>emailer_for_promotion</th>\n",
       "      <th>homepage_featured</th>\n",
       "      <th>num_orders</th>\n",
       "    </tr>\n",
       "  </thead>\n",
       "  <tbody>\n",
       "    <tr>\n",
       "      <th>0</th>\n",
       "      <td>1379560</td>\n",
       "      <td>1</td>\n",
       "      <td>55</td>\n",
       "      <td>1885</td>\n",
       "      <td>136.83</td>\n",
       "      <td>152.29</td>\n",
       "      <td>0</td>\n",
       "      <td>0</td>\n",
       "      <td>177</td>\n",
       "    </tr>\n",
       "    <tr>\n",
       "      <th>1</th>\n",
       "      <td>1466964</td>\n",
       "      <td>1</td>\n",
       "      <td>55</td>\n",
       "      <td>1993</td>\n",
       "      <td>136.83</td>\n",
       "      <td>135.83</td>\n",
       "      <td>0</td>\n",
       "      <td>0</td>\n",
       "      <td>270</td>\n",
       "    </tr>\n",
       "    <tr>\n",
       "      <th>2</th>\n",
       "      <td>1346989</td>\n",
       "      <td>1</td>\n",
       "      <td>55</td>\n",
       "      <td>2539</td>\n",
       "      <td>134.86</td>\n",
       "      <td>135.86</td>\n",
       "      <td>0</td>\n",
       "      <td>0</td>\n",
       "      <td>189</td>\n",
       "    </tr>\n",
       "    <tr>\n",
       "      <th>3</th>\n",
       "      <td>1338232</td>\n",
       "      <td>1</td>\n",
       "      <td>55</td>\n",
       "      <td>2139</td>\n",
       "      <td>339.50</td>\n",
       "      <td>437.53</td>\n",
       "      <td>0</td>\n",
       "      <td>0</td>\n",
       "      <td>54</td>\n",
       "    </tr>\n",
       "    <tr>\n",
       "      <th>4</th>\n",
       "      <td>1448490</td>\n",
       "      <td>1</td>\n",
       "      <td>55</td>\n",
       "      <td>2631</td>\n",
       "      <td>243.50</td>\n",
       "      <td>242.50</td>\n",
       "      <td>0</td>\n",
       "      <td>0</td>\n",
       "      <td>40</td>\n",
       "    </tr>\n",
       "  </tbody>\n",
       "</table>\n",
       "</div>"
      ],
      "text/plain": [
       "        id  week  center_id  meal_id  checkout_price  base_price  \\\n",
       "0  1379560     1         55     1885          136.83      152.29   \n",
       "1  1466964     1         55     1993          136.83      135.83   \n",
       "2  1346989     1         55     2539          134.86      135.86   \n",
       "3  1338232     1         55     2139          339.50      437.53   \n",
       "4  1448490     1         55     2631          243.50      242.50   \n",
       "\n",
       "   emailer_for_promotion  homepage_featured  num_orders  \n",
       "0                      0                  0         177  \n",
       "1                      0                  0         270  \n",
       "2                      0                  0         189  \n",
       "3                      0                  0          54  \n",
       "4                      0                  0          40  "
      ]
     },
     "execution_count": 4,
     "metadata": {},
     "output_type": "execute_result"
    }
   ],
   "source": [
    "train.head()"
   ]
  },
  {
   "cell_type": "code",
   "execution_count": 5,
   "id": "5d1ec27d-e79f-4653-98fb-00e8ab186c5f",
   "metadata": {},
   "outputs": [
    {
     "data": {
      "text/plain": [
       "(Index(['id', 'week', 'center_id', 'meal_id', 'checkout_price', 'base_price',\n",
       "        'emailer_for_promotion', 'homepage_featured'],\n",
       "       dtype='object'),\n",
       " Index(['id', 'week', 'center_id', 'meal_id', 'checkout_price', 'base_price',\n",
       "        'emailer_for_promotion', 'homepage_featured', 'num_orders'],\n",
       "       dtype='object'),\n",
       " Index(['center_id', 'city_code', 'region_code', 'center_type', 'op_area'], dtype='object'),\n",
       " Index(['id', 'num_orders'], dtype='object'),\n",
       " Index(['id', 'week', 'center_id', 'meal_id', 'checkout_price', 'base_price',\n",
       "        'emailer_for_promotion', 'homepage_featured'],\n",
       "       dtype='object'),\n",
       " Index(['meal_id', 'category', 'cuisine'], dtype='object'))"
      ]
     },
     "execution_count": 5,
     "metadata": {},
     "output_type": "execute_result"
    }
   ],
   "source": [
    "test.columns,train.columns,centres.columns,sample.columns,test.columns,meal.columns"
   ]
  },
  {
   "cell_type": "code",
   "execution_count": 6,
   "id": "1472306a-1235-4042-b96f-336b7e0ae5d9",
   "metadata": {},
   "outputs": [],
   "source": [
    "# combine Train and Test "
   ]
  },
  {
   "cell_type": "code",
   "execution_count": 7,
   "id": "e2dd37c5-85f6-4db9-86a1-c3d53295c6b6",
   "metadata": {},
   "outputs": [],
   "source": [
    "combined=pd.concat([train,test],ignore_index=True)\n",
    "combined=pd.merge(combined,centres,how=\"left\",on=\"center_id\")\n",
    "combined=pd.merge(combined,meal,how=\"left\",on=\"meal_id\")"
   ]
  },
  {
   "cell_type": "code",
   "execution_count": 8,
   "id": "74ce6cf4-3341-42f4-8b66-8f5431bf0d27",
   "metadata": {},
   "outputs": [
    {
     "data": {
      "text/plain": [
       "((456548, 9), (32573, 8), (77, 5), (51, 3))"
      ]
     },
     "execution_count": 8,
     "metadata": {},
     "output_type": "execute_result"
    }
   ],
   "source": [
    "train.shape,test.shape,centres.shape,meal.shape"
   ]
  },
  {
   "cell_type": "code",
   "execution_count": 9,
   "id": "dfbd58f1-0671-4cdb-8dc4-b121dcff3e8d",
   "metadata": {},
   "outputs": [
    {
     "data": {
      "text/html": [
       "<div>\n",
       "<style scoped>\n",
       "    .dataframe tbody tr th:only-of-type {\n",
       "        vertical-align: middle;\n",
       "    }\n",
       "\n",
       "    .dataframe tbody tr th {\n",
       "        vertical-align: top;\n",
       "    }\n",
       "\n",
       "    .dataframe thead th {\n",
       "        text-align: right;\n",
       "    }\n",
       "</style>\n",
       "<table border=\"1\" class=\"dataframe\">\n",
       "  <thead>\n",
       "    <tr style=\"text-align: right;\">\n",
       "      <th></th>\n",
       "      <th>id</th>\n",
       "      <th>week</th>\n",
       "      <th>center_id</th>\n",
       "      <th>meal_id</th>\n",
       "      <th>checkout_price</th>\n",
       "      <th>base_price</th>\n",
       "      <th>emailer_for_promotion</th>\n",
       "      <th>homepage_featured</th>\n",
       "      <th>num_orders</th>\n",
       "      <th>city_code</th>\n",
       "      <th>region_code</th>\n",
       "      <th>center_type</th>\n",
       "      <th>op_area</th>\n",
       "      <th>category</th>\n",
       "      <th>cuisine</th>\n",
       "    </tr>\n",
       "  </thead>\n",
       "  <tbody>\n",
       "    <tr>\n",
       "      <th>0</th>\n",
       "      <td>1379560</td>\n",
       "      <td>1</td>\n",
       "      <td>55</td>\n",
       "      <td>1885</td>\n",
       "      <td>136.83</td>\n",
       "      <td>152.29</td>\n",
       "      <td>0</td>\n",
       "      <td>0</td>\n",
       "      <td>177.0</td>\n",
       "      <td>647</td>\n",
       "      <td>56</td>\n",
       "      <td>TYPE_C</td>\n",
       "      <td>2.0</td>\n",
       "      <td>Beverages</td>\n",
       "      <td>Thai</td>\n",
       "    </tr>\n",
       "    <tr>\n",
       "      <th>1</th>\n",
       "      <td>1466964</td>\n",
       "      <td>1</td>\n",
       "      <td>55</td>\n",
       "      <td>1993</td>\n",
       "      <td>136.83</td>\n",
       "      <td>135.83</td>\n",
       "      <td>0</td>\n",
       "      <td>0</td>\n",
       "      <td>270.0</td>\n",
       "      <td>647</td>\n",
       "      <td>56</td>\n",
       "      <td>TYPE_C</td>\n",
       "      <td>2.0</td>\n",
       "      <td>Beverages</td>\n",
       "      <td>Thai</td>\n",
       "    </tr>\n",
       "    <tr>\n",
       "      <th>2</th>\n",
       "      <td>1346989</td>\n",
       "      <td>1</td>\n",
       "      <td>55</td>\n",
       "      <td>2539</td>\n",
       "      <td>134.86</td>\n",
       "      <td>135.86</td>\n",
       "      <td>0</td>\n",
       "      <td>0</td>\n",
       "      <td>189.0</td>\n",
       "      <td>647</td>\n",
       "      <td>56</td>\n",
       "      <td>TYPE_C</td>\n",
       "      <td>2.0</td>\n",
       "      <td>Beverages</td>\n",
       "      <td>Thai</td>\n",
       "    </tr>\n",
       "    <tr>\n",
       "      <th>3</th>\n",
       "      <td>1338232</td>\n",
       "      <td>1</td>\n",
       "      <td>55</td>\n",
       "      <td>2139</td>\n",
       "      <td>339.50</td>\n",
       "      <td>437.53</td>\n",
       "      <td>0</td>\n",
       "      <td>0</td>\n",
       "      <td>54.0</td>\n",
       "      <td>647</td>\n",
       "      <td>56</td>\n",
       "      <td>TYPE_C</td>\n",
       "      <td>2.0</td>\n",
       "      <td>Beverages</td>\n",
       "      <td>Indian</td>\n",
       "    </tr>\n",
       "    <tr>\n",
       "      <th>4</th>\n",
       "      <td>1448490</td>\n",
       "      <td>1</td>\n",
       "      <td>55</td>\n",
       "      <td>2631</td>\n",
       "      <td>243.50</td>\n",
       "      <td>242.50</td>\n",
       "      <td>0</td>\n",
       "      <td>0</td>\n",
       "      <td>40.0</td>\n",
       "      <td>647</td>\n",
       "      <td>56</td>\n",
       "      <td>TYPE_C</td>\n",
       "      <td>2.0</td>\n",
       "      <td>Beverages</td>\n",
       "      <td>Indian</td>\n",
       "    </tr>\n",
       "  </tbody>\n",
       "</table>\n",
       "</div>"
      ],
      "text/plain": [
       "        id  week  center_id  meal_id  checkout_price  base_price  \\\n",
       "0  1379560     1         55     1885          136.83      152.29   \n",
       "1  1466964     1         55     1993          136.83      135.83   \n",
       "2  1346989     1         55     2539          134.86      135.86   \n",
       "3  1338232     1         55     2139          339.50      437.53   \n",
       "4  1448490     1         55     2631          243.50      242.50   \n",
       "\n",
       "   emailer_for_promotion  homepage_featured  num_orders  city_code  \\\n",
       "0                      0                  0       177.0        647   \n",
       "1                      0                  0       270.0        647   \n",
       "2                      0                  0       189.0        647   \n",
       "3                      0                  0        54.0        647   \n",
       "4                      0                  0        40.0        647   \n",
       "\n",
       "   region_code center_type  op_area   category cuisine  \n",
       "0           56      TYPE_C      2.0  Beverages    Thai  \n",
       "1           56      TYPE_C      2.0  Beverages    Thai  \n",
       "2           56      TYPE_C      2.0  Beverages    Thai  \n",
       "3           56      TYPE_C      2.0  Beverages  Indian  \n",
       "4           56      TYPE_C      2.0  Beverages  Indian  "
      ]
     },
     "execution_count": 9,
     "metadata": {},
     "output_type": "execute_result"
    }
   ],
   "source": [
    "combined.head()"
   ]
  },
  {
   "cell_type": "code",
   "execution_count": 10,
   "id": "d8668fd5-c8bb-4093-aafb-40061202ae26",
   "metadata": {},
   "outputs": [],
   "source": [
    "# Target variable "
   ]
  },
  {
   "cell_type": "code",
   "execution_count": 11,
   "id": "f4935133-69e4-4707-9c27-47d2c33fcf26",
   "metadata": {},
   "outputs": [
    {
     "data": {
      "image/png": "[encoded data removed]",
      "text/plain": [
       "<Figure size 500x500 with 1 Axes>"
      ]
     },
     "metadata": {},
     "output_type": "display_data"
    }
   ],
   "source": [
    "sns.displot(x='num_orders',data=combined)\n",
    "plt.show()"
   ]
  },
  {
   "cell_type": "code",
   "execution_count": 12,
   "id": "310ed366-4630-4e83-b1f5-4cadf22306a3",
   "metadata": {},
   "outputs": [
    {
     "data": {
      "image/png": "[encoded data removed]",
      "text/plain": [
       "<Figure size 500x500 with 1 Axes>"
      ]
     },
     "metadata": {},
     "output_type": "display_data"
    }
   ],
   "source": [
    "sns.displot(np.log(combined.num_orders))\n",
    "plt.show()"
   ]
  },
  {
   "cell_type": "code",
   "execution_count": 13,
   "id": "9d807ce2-1ce1-486e-a38b-f369052dd274",
   "metadata": {},
   "outputs": [
    {
     "data": {
      "text/plain": [
       "count    456548.000000\n",
       "mean        261.872760\n",
       "std         395.922798\n",
       "min          13.000000\n",
       "25%          54.000000\n",
       "50%         136.000000\n",
       "75%         324.000000\n",
       "max       24299.000000\n",
       "Name: num_orders, dtype: float64"
      ]
     },
     "execution_count": 13,
     "metadata": {},
     "output_type": "execute_result"
    }
   ],
   "source": [
    "train['num_orders'].describe()"
   ]
  },
  {
   "cell_type": "code",
   "execution_count": 14,
   "id": "861c5cd6-8d41-4b79-a7cc-85db5f692fb6",
   "metadata": {},
   "outputs": [],
   "source": [
    "combined['log_target'] = np.log(combined.num_orders)"
   ]
  },
  {
   "cell_type": "code",
   "execution_count": 15,
   "id": "45df0d35-e590-4daf-8c0c-7335d9367b78",
   "metadata": {},
   "outputs": [],
   "source": [
    "# Base Price "
   ]
  },
  {
   "cell_type": "code",
   "execution_count": 16,
   "id": "fcb1e75e-03e9-481f-a02f-b6c83c1269e7",
   "metadata": {},
   "outputs": [
    {
     "data": {
      "image/png": "[encoded data removed]",
      "text/plain": [
       "<Figure size 500x500 with 1 Axes>"
      ]
     },
     "metadata": {},
     "output_type": "display_data"
    }
   ],
   "source": [
    "sns.displot(combined.base_price)\n",
    "plt.show()"
   ]
  },
  {
   "cell_type": "code",
   "execution_count": 17,
   "id": "6eca627e-fcec-4a63-b24b-8b989fafef43",
   "metadata": {},
   "outputs": [
    {
     "data": {
      "image/png": "[encoded data removed]",
      "text/plain": [
       "<Figure size 500x500 with 1 Axes>"
      ]
     },
     "metadata": {},
     "output_type": "display_data"
    }
   ],
   "source": [
    "sns.displot(combined.checkout_price)\n",
    "plt.show()"
   ]
  },
  {
   "cell_type": "code",
   "execution_count": 18,
   "id": "7ba581ad-8bd2-4c4f-84c1-4942c7ff0dfd",
   "metadata": {},
   "outputs": [
    {
     "data": {
      "text/html": [
       "<div>\n",
       "<style scoped>\n",
       "    .dataframe tbody tr th:only-of-type {\n",
       "        vertical-align: middle;\n",
       "    }\n",
       "\n",
       "    .dataframe tbody tr th {\n",
       "        vertical-align: top;\n",
       "    }\n",
       "\n",
       "    .dataframe thead th {\n",
       "        text-align: right;\n",
       "    }\n",
       "</style>\n",
       "<table border=\"1\" class=\"dataframe\">\n",
       "  <thead>\n",
       "    <tr style=\"text-align: right;\">\n",
       "      <th></th>\n",
       "      <th>id</th>\n",
       "      <th>week</th>\n",
       "      <th>center_id</th>\n",
       "      <th>meal_id</th>\n",
       "      <th>checkout_price</th>\n",
       "      <th>base_price</th>\n",
       "      <th>emailer_for_promotion</th>\n",
       "      <th>homepage_featured</th>\n",
       "      <th>num_orders</th>\n",
       "      <th>city_code</th>\n",
       "      <th>region_code</th>\n",
       "      <th>center_type</th>\n",
       "      <th>op_area</th>\n",
       "      <th>category</th>\n",
       "      <th>cuisine</th>\n",
       "      <th>log_target</th>\n",
       "    </tr>\n",
       "  </thead>\n",
       "  <tbody>\n",
       "    <tr>\n",
       "      <th>0</th>\n",
       "      <td>1379560</td>\n",
       "      <td>1</td>\n",
       "      <td>55</td>\n",
       "      <td>1885</td>\n",
       "      <td>136.83</td>\n",
       "      <td>152.29</td>\n",
       "      <td>0</td>\n",
       "      <td>0</td>\n",
       "      <td>177.0</td>\n",
       "      <td>647</td>\n",
       "      <td>56</td>\n",
       "      <td>TYPE_C</td>\n",
       "      <td>2.0</td>\n",
       "      <td>Beverages</td>\n",
       "      <td>Thai</td>\n",
       "      <td>5.176150</td>\n",
       "    </tr>\n",
       "    <tr>\n",
       "      <th>1</th>\n",
       "      <td>1466964</td>\n",
       "      <td>1</td>\n",
       "      <td>55</td>\n",
       "      <td>1993</td>\n",
       "      <td>136.83</td>\n",
       "      <td>135.83</td>\n",
       "      <td>0</td>\n",
       "      <td>0</td>\n",
       "      <td>270.0</td>\n",
       "      <td>647</td>\n",
       "      <td>56</td>\n",
       "      <td>TYPE_C</td>\n",
       "      <td>2.0</td>\n",
       "      <td>Beverages</td>\n",
       "      <td>Thai</td>\n",
       "      <td>5.598422</td>\n",
       "    </tr>\n",
       "    <tr>\n",
       "      <th>2</th>\n",
       "      <td>1346989</td>\n",
       "      <td>1</td>\n",
       "      <td>55</td>\n",
       "      <td>2539</td>\n",
       "      <td>134.86</td>\n",
       "      <td>135.86</td>\n",
       "      <td>0</td>\n",
       "      <td>0</td>\n",
       "      <td>189.0</td>\n",
       "      <td>647</td>\n",
       "      <td>56</td>\n",
       "      <td>TYPE_C</td>\n",
       "      <td>2.0</td>\n",
       "      <td>Beverages</td>\n",
       "      <td>Thai</td>\n",
       "      <td>5.241747</td>\n",
       "    </tr>\n",
       "    <tr>\n",
       "      <th>3</th>\n",
       "      <td>1338232</td>\n",
       "      <td>1</td>\n",
       "      <td>55</td>\n",
       "      <td>2139</td>\n",
       "      <td>339.50</td>\n",
       "      <td>437.53</td>\n",
       "      <td>0</td>\n",
       "      <td>0</td>\n",
       "      <td>54.0</td>\n",
       "      <td>647</td>\n",
       "      <td>56</td>\n",
       "      <td>TYPE_C</td>\n",
       "      <td>2.0</td>\n",
       "      <td>Beverages</td>\n",
       "      <td>Indian</td>\n",
       "      <td>3.988984</td>\n",
       "    </tr>\n",
       "    <tr>\n",
       "      <th>4</th>\n",
       "      <td>1448490</td>\n",
       "      <td>1</td>\n",
       "      <td>55</td>\n",
       "      <td>2631</td>\n",
       "      <td>243.50</td>\n",
       "      <td>242.50</td>\n",
       "      <td>0</td>\n",
       "      <td>0</td>\n",
       "      <td>40.0</td>\n",
       "      <td>647</td>\n",
       "      <td>56</td>\n",
       "      <td>TYPE_C</td>\n",
       "      <td>2.0</td>\n",
       "      <td>Beverages</td>\n",
       "      <td>Indian</td>\n",
       "      <td>3.688879</td>\n",
       "    </tr>\n",
       "    <tr>\n",
       "      <th>5</th>\n",
       "      <td>1270037</td>\n",
       "      <td>1</td>\n",
       "      <td>55</td>\n",
       "      <td>1248</td>\n",
       "      <td>251.23</td>\n",
       "      <td>252.23</td>\n",
       "      <td>0</td>\n",
       "      <td>0</td>\n",
       "      <td>28.0</td>\n",
       "      <td>647</td>\n",
       "      <td>56</td>\n",
       "      <td>TYPE_C</td>\n",
       "      <td>2.0</td>\n",
       "      <td>Beverages</td>\n",
       "      <td>Indian</td>\n",
       "      <td>3.332205</td>\n",
       "    </tr>\n",
       "    <tr>\n",
       "      <th>6</th>\n",
       "      <td>1191377</td>\n",
       "      <td>1</td>\n",
       "      <td>55</td>\n",
       "      <td>1778</td>\n",
       "      <td>183.36</td>\n",
       "      <td>184.36</td>\n",
       "      <td>0</td>\n",
       "      <td>0</td>\n",
       "      <td>190.0</td>\n",
       "      <td>647</td>\n",
       "      <td>56</td>\n",
       "      <td>TYPE_C</td>\n",
       "      <td>2.0</td>\n",
       "      <td>Beverages</td>\n",
       "      <td>Italian</td>\n",
       "      <td>5.247024</td>\n",
       "    </tr>\n",
       "    <tr>\n",
       "      <th>7</th>\n",
       "      <td>1499955</td>\n",
       "      <td>1</td>\n",
       "      <td>55</td>\n",
       "      <td>1062</td>\n",
       "      <td>182.36</td>\n",
       "      <td>183.36</td>\n",
       "      <td>0</td>\n",
       "      <td>0</td>\n",
       "      <td>391.0</td>\n",
       "      <td>647</td>\n",
       "      <td>56</td>\n",
       "      <td>TYPE_C</td>\n",
       "      <td>2.0</td>\n",
       "      <td>Beverages</td>\n",
       "      <td>Italian</td>\n",
       "      <td>5.968708</td>\n",
       "    </tr>\n",
       "    <tr>\n",
       "      <th>8</th>\n",
       "      <td>1025244</td>\n",
       "      <td>1</td>\n",
       "      <td>55</td>\n",
       "      <td>2707</td>\n",
       "      <td>193.06</td>\n",
       "      <td>192.06</td>\n",
       "      <td>0</td>\n",
       "      <td>0</td>\n",
       "      <td>472.0</td>\n",
       "      <td>647</td>\n",
       "      <td>56</td>\n",
       "      <td>TYPE_C</td>\n",
       "      <td>2.0</td>\n",
       "      <td>Beverages</td>\n",
       "      <td>Italian</td>\n",
       "      <td>6.156979</td>\n",
       "    </tr>\n",
       "    <tr>\n",
       "      <th>9</th>\n",
       "      <td>1054194</td>\n",
       "      <td>1</td>\n",
       "      <td>55</td>\n",
       "      <td>1207</td>\n",
       "      <td>325.92</td>\n",
       "      <td>384.18</td>\n",
       "      <td>0</td>\n",
       "      <td>1</td>\n",
       "      <td>676.0</td>\n",
       "      <td>647</td>\n",
       "      <td>56</td>\n",
       "      <td>TYPE_C</td>\n",
       "      <td>2.0</td>\n",
       "      <td>Beverages</td>\n",
       "      <td>Continental</td>\n",
       "      <td>6.516193</td>\n",
       "    </tr>\n",
       "  </tbody>\n",
       "</table>\n",
       "</div>"
      ],
      "text/plain": [
       "        id  week  center_id  meal_id  checkout_price  base_price  \\\n",
       "0  1379560     1         55     1885          136.83      152.29   \n",
       "1  1466964     1         55     1993          136.83      135.83   \n",
       "2  1346989     1         55     2539          134.86      135.86   \n",
       "3  1338232     1         55     2139          339.50      437.53   \n",
       "4  1448490     1         55     2631          243.50      242.50   \n",
       "5  1270037     1         55     1248          251.23      252.23   \n",
       "6  1191377     1         55     1778          183.36      184.36   \n",
       "7  1499955     1         55     1062          182.36      183.36   \n",
       "8  1025244     1         55     2707          193.06      192.06   \n",
       "9  1054194     1         55     1207          325.92      384.18   \n",
       "\n",
       "   emailer_for_promotion  homepage_featured  num_orders  city_code  \\\n",
       "0                      0                  0       177.0        647   \n",
       "1                      0                  0       270.0        647   \n",
       "2                      0                  0       189.0        647   \n",
       "3                      0                  0        54.0        647   \n",
       "4                      0                  0        40.0        647   \n",
       "5                      0                  0        28.0        647   \n",
       "6                      0                  0       190.0        647   \n",
       "7                      0                  0       391.0        647   \n",
       "8                      0                  0       472.0        647   \n",
       "9                      0                  1       676.0        647   \n",
       "\n",
       "   region_code center_type  op_area   category      cuisine  log_target  \n",
       "0           56      TYPE_C      2.0  Beverages         Thai    5.176150  \n",
       "1           56      TYPE_C      2.0  Beverages         Thai    5.598422  \n",
       "2           56      TYPE_C      2.0  Beverages         Thai    5.241747  \n",
       "3           56      TYPE_C      2.0  Beverages       Indian    3.988984  \n",
       "4           56      TYPE_C      2.0  Beverages       Indian    3.688879  \n",
       "5           56      TYPE_C      2.0  Beverages       Indian    3.332205  \n",
       "6           56      TYPE_C      2.0  Beverages      Italian    5.247024  \n",
       "7           56      TYPE_C      2.0  Beverages      Italian    5.968708  \n",
       "8           56      TYPE_C      2.0  Beverages      Italian    6.156979  \n",
       "9           56      TYPE_C      2.0  Beverages  Continental    6.516193  "
      ]
     },
     "execution_count": 18,
     "metadata": {},
     "output_type": "execute_result"
    }
   ],
   "source": [
    "combined.head(10)"
   ]
  },
  {
   "cell_type": "code",
   "execution_count": 19,
   "id": "54faab66-eca1-4527-bcfa-5614e26a2151",
   "metadata": {},
   "outputs": [],
   "source": [
    "# Treatment of Prices"
   ]
  },
  {
   "cell_type": "code",
   "execution_count": 20,
   "id": "86576fc7-8888-4dfc-92d8-9b5a0e8bce1b",
   "metadata": {},
   "outputs": [
    {
     "name": "stdout",
     "output_type": "stream",
     "text": [
      "<class 'pandas.core.frame.DataFrame'>\n",
      "RangeIndex: 489121 entries, 0 to 489120\n",
      "Data columns (total 16 columns):\n",
      " #   Column                 Non-Null Count   Dtype  \n",
      "---  ------                 --------------   -----  \n",
      " 0   id                     489121 non-null  int64  \n",
      " 1   week                   489121 non-null  int64  \n",
      " 2   center_id              489121 non-null  int64  \n",
      " 3   meal_id                489121 non-null  int64  \n",
      " 4   checkout_price         489121 non-null  float64\n",
      " 5   base_price             489121 non-null  float64\n",
      " 6   emailer_for_promotion  489121 non-null  int64  \n",
      " 7   homepage_featured      489121 non-null  int64  \n",
      " 8   num_orders             456548 non-null  float64\n",
      " 9   city_code              489121 non-null  int64  \n",
      " 10  region_code            489121 non-null  int64  \n",
      " 11  center_type            489121 non-null  object \n",
      " 12  op_area                489121 non-null  float64\n",
      " 13  category               489121 non-null  object \n",
      " 14  cuisine                489121 non-null  object \n",
      " 15  log_target             456548 non-null  float64\n",
      "dtypes: float64(5), int64(8), object(3)\n",
      "memory usage: 59.7+ MB\n"
     ]
    }
   ],
   "source": [
    "combined.info()"
   ]
  },
  {
   "cell_type": "code",
   "execution_count": 21,
   "id": "80a961a5-052b-4ac4-8330-aaaaa83c4eed",
   "metadata": {},
   "outputs": [],
   "source": [
    "# Treatment of Prices"
   ]
  },
  {
   "cell_type": "code",
   "execution_count": 22,
   "id": "9c65923c-fc52-4a52-8120-9d2e85f1b5f0",
   "metadata": {},
   "outputs": [],
   "source": [
    "combined['price_diff'] = combined.base_price - combined.checkout_price"
   ]
  },
  {
   "cell_type": "code",
   "execution_count": 23,
   "id": "7b8b2624-abab-4805-8f07-c18105a31bf7",
   "metadata": {},
   "outputs": [
    {
     "data": {
      "text/plain": [
       "count    489121.000000\n",
       "mean         21.432982\n",
       "std          47.976701\n",
       "min        -185.300000\n",
       "25%          -1.000000\n",
       "50%           0.030000\n",
       "75%           5.850000\n",
       "max         820.590000\n",
       "Name: price_diff, dtype: float64"
      ]
     },
     "execution_count": 23,
     "metadata": {},
     "output_type": "execute_result"
    }
   ],
   "source": [
    "combined['price_diff'].describe()"
   ]
  },
  {
   "cell_type": "code",
   "execution_count": 24,
   "id": "c102c9f9-697b-4d2c-9668-2209fa9c7a0b",
   "metadata": {},
   "outputs": [],
   "source": [
    "def price(x):\n",
    "    if x < 0:\n",
    "        return('Discount')\n",
    "    elif x<10:\n",
    "        return('Taxes')\n",
    "    else:\n",
    "        return('Addnl_Chgs')"
   ]
  },
  {
   "cell_type": "code",
   "execution_count": 25,
   "id": "6e0fdeba-ed3f-4c52-970b-a34b3f73013a",
   "metadata": {},
   "outputs": [],
   "source": [
    "combined['price_cat'] = combined.price_diff.apply(price)"
   ]
  },
  {
   "cell_type": "code",
   "execution_count": 26,
   "id": "d77b55d8-bd17-4c41-8178-5b0b996f3b96",
   "metadata": {},
   "outputs": [
    {
     "data": {
      "text/plain": [
       "price_cat\n",
       "Taxes         0.495810\n",
       "Discount      0.255638\n",
       "Addnl_Chgs    0.248552\n",
       "Name: proportion, dtype: float64"
      ]
     },
     "execution_count": 26,
     "metadata": {},
     "output_type": "execute_result"
    }
   ],
   "source": [
    "combined.price_cat.value_counts(normalize=True)"
   ]
  },
  {
   "cell_type": "code",
   "execution_count": 27,
   "id": "6d00d7d8-1824-4ed8-a6df-167ad28c999e",
   "metadata": {},
   "outputs": [],
   "source": [
    "# To check the price cat vs target variable anova will be applied remember this point "
   ]
  },
  {
   "cell_type": "code",
   "execution_count": 28,
   "id": "e29ffa8b-7730-4b6c-ae46-d6b209008b16",
   "metadata": {},
   "outputs": [
    {
     "data": {
      "text/html": [
       "<div>\n",
       "<style scoped>\n",
       "    .dataframe tbody tr th:only-of-type {\n",
       "        vertical-align: middle;\n",
       "    }\n",
       "\n",
       "    .dataframe tbody tr th {\n",
       "        vertical-align: top;\n",
       "    }\n",
       "\n",
       "    .dataframe thead th {\n",
       "        text-align: right;\n",
       "    }\n",
       "</style>\n",
       "<table border=\"1\" class=\"dataframe\">\n",
       "  <thead>\n",
       "    <tr style=\"text-align: right;\">\n",
       "      <th></th>\n",
       "      <th>price_diff</th>\n",
       "      <th>num_orders</th>\n",
       "    </tr>\n",
       "  </thead>\n",
       "  <tbody>\n",
       "    <tr>\n",
       "      <th>price_diff</th>\n",
       "      <td>1.00000</td>\n",
       "      <td>0.15295</td>\n",
       "    </tr>\n",
       "    <tr>\n",
       "      <th>num_orders</th>\n",
       "      <td>0.15295</td>\n",
       "      <td>1.00000</td>\n",
       "    </tr>\n",
       "  </tbody>\n",
       "</table>\n",
       "</div>"
      ],
      "text/plain": [
       "            price_diff  num_orders\n",
       "price_diff     1.00000     0.15295\n",
       "num_orders     0.15295     1.00000"
      ]
     },
     "execution_count": 28,
     "metadata": {},
     "output_type": "execute_result"
    }
   ],
   "source": [
    "combined.loc[:,['price_diff','num_orders']].corr()"
   ]
  },
  {
   "cell_type": "code",
   "execution_count": 29,
   "id": "f4adcadc-abab-46d3-9cdf-2f0b08717b64",
   "metadata": {},
   "outputs": [
    {
     "data": {
      "image/png": "[encoded data removed]",
      "text/plain": [
       "<Figure size 640x480 with 1 Axes>"
      ]
     },
     "metadata": {},
     "output_type": "display_data"
    }
   ],
   "source": [
    "sns.boxplot(x='price_cat',y='num_orders',data=combined)\n",
    "plt.show()"
   ]
  },
  {
   "cell_type": "code",
   "execution_count": 30,
   "id": "0b583dec-9b0e-4b9d-b1f8-a7f0f4b9b9e4",
   "metadata": {},
   "outputs": [],
   "source": [
    "# Social Medial \n",
    "\n",
    "combined['marketing'] = combined.emailer_for_promotion+\\\n",
    "combined.homepage_featured"
   ]
  },
  {
   "cell_type": "code",
   "execution_count": 31,
   "id": "dbe82b13-5e07-40cd-8512-e960f4b54dcc",
   "metadata": {},
   "outputs": [
    {
     "data": {
      "image/png": "[encoded data removed]",
      "text/plain": [
       "<Figure size 640x480 with 1 Axes>"
      ]
     },
     "metadata": {},
     "output_type": "display_data"
    }
   ],
   "source": [
    "sns.boxplot(x='marketing',y='num_orders',data=combined)\n",
    "plt.show()"
   ]
  },
  {
   "cell_type": "code",
   "execution_count": 32,
   "id": "2b8a7d7e-8d31-4db1-b02c-9ae830dab05e",
   "metadata": {},
   "outputs": [],
   "source": [
    "# cusine"
   ]
  },
  {
   "cell_type": "code",
   "execution_count": 33,
   "id": "3d3e9f43-cebd-4142-90ba-0659395dc3d4",
   "metadata": {},
   "outputs": [
    {
     "data": {
      "text/plain": [
       "<Axes: xlabel='cuisine'>"
      ]
     },
     "execution_count": 33,
     "metadata": {},
     "output_type": "execute_result"
    },
    {
     "data": {
      "image/png": "[encoded data removed]",
      "text/plain": [
       "<Figure size 640x480 with 1 Axes>"
      ]
     },
     "metadata": {},
     "output_type": "display_data"
    }
   ],
   "source": [
    "combined.cuisine.value_counts().plot(kind='bar')"
   ]
  },
  {
   "cell_type": "code",
   "execution_count": 34,
   "id": "9b27cc7c-5d79-4871-9ba2-3396fcd663ec",
   "metadata": {},
   "outputs": [
    {
     "data": {
      "image/png": "[encoded data removed]",
      "text/plain": [
       "<Figure size 640x480 with 1 Axes>"
      ]
     },
     "metadata": {},
     "output_type": "display_data"
    }
   ],
   "source": [
    "sns.boxplot(x='cuisine',y='num_orders',data=combined)\n",
    "plt.show()"
   ]
  },
  {
   "cell_type": "code",
   "execution_count": 35,
   "id": "c4be0ebe-ad03-4380-af20-2eca8404f7e9",
   "metadata": {},
   "outputs": [
    {
     "data": {
      "image/png": "[encoded data removed]",
      "text/plain": [
       "<Figure size 640x480 with 1 Axes>"
      ]
     },
     "metadata": {},
     "output_type": "display_data"
    }
   ],
   "source": [
    "#Cusine\n",
    "combined.category.value_counts().plot(kind='bar')\n",
    "plt.show()\n",
    "# Top 5: Beverages, Ricebowl, Sandwich, Pizza, Starters"
   ]
  },
  {
   "cell_type": "code",
   "execution_count": 36,
   "id": "ed8af2a8-ea6b-4b3f-adc1-58fa71bec416",
   "metadata": {},
   "outputs": [
    {
     "data": {
      "text/html": [
       "<div>\n",
       "<style scoped>\n",
       "    .dataframe tbody tr th:only-of-type {\n",
       "        vertical-align: middle;\n",
       "    }\n",
       "\n",
       "    .dataframe tbody tr th {\n",
       "        vertical-align: top;\n",
       "    }\n",
       "\n",
       "    .dataframe thead th {\n",
       "        text-align: right;\n",
       "    }\n",
       "</style>\n",
       "<table border=\"1\" class=\"dataframe\">\n",
       "  <thead>\n",
       "    <tr style=\"text-align: right;\">\n",
       "      <th></th>\n",
       "      <th>id</th>\n",
       "      <th>week</th>\n",
       "      <th>center_id</th>\n",
       "      <th>meal_id</th>\n",
       "      <th>checkout_price</th>\n",
       "      <th>base_price</th>\n",
       "      <th>emailer_for_promotion</th>\n",
       "      <th>homepage_featured</th>\n",
       "      <th>num_orders</th>\n",
       "      <th>city_code</th>\n",
       "      <th>region_code</th>\n",
       "      <th>center_type</th>\n",
       "      <th>op_area</th>\n",
       "      <th>category</th>\n",
       "      <th>cuisine</th>\n",
       "      <th>log_target</th>\n",
       "      <th>price_diff</th>\n",
       "      <th>price_cat</th>\n",
       "      <th>marketing</th>\n",
       "    </tr>\n",
       "  </thead>\n",
       "  <tbody>\n",
       "    <tr>\n",
       "      <th>0</th>\n",
       "      <td>1379560</td>\n",
       "      <td>1</td>\n",
       "      <td>55</td>\n",
       "      <td>1885</td>\n",
       "      <td>136.83</td>\n",
       "      <td>152.29</td>\n",
       "      <td>0</td>\n",
       "      <td>0</td>\n",
       "      <td>177.0</td>\n",
       "      <td>647</td>\n",
       "      <td>56</td>\n",
       "      <td>TYPE_C</td>\n",
       "      <td>2.0</td>\n",
       "      <td>Beverages</td>\n",
       "      <td>Thai</td>\n",
       "      <td>5.176150</td>\n",
       "      <td>15.46</td>\n",
       "      <td>Addnl_Chgs</td>\n",
       "      <td>0</td>\n",
       "    </tr>\n",
       "    <tr>\n",
       "      <th>1</th>\n",
       "      <td>1466964</td>\n",
       "      <td>1</td>\n",
       "      <td>55</td>\n",
       "      <td>1993</td>\n",
       "      <td>136.83</td>\n",
       "      <td>135.83</td>\n",
       "      <td>0</td>\n",
       "      <td>0</td>\n",
       "      <td>270.0</td>\n",
       "      <td>647</td>\n",
       "      <td>56</td>\n",
       "      <td>TYPE_C</td>\n",
       "      <td>2.0</td>\n",
       "      <td>Beverages</td>\n",
       "      <td>Thai</td>\n",
       "      <td>5.598422</td>\n",
       "      <td>-1.00</td>\n",
       "      <td>Discount</td>\n",
       "      <td>0</td>\n",
       "    </tr>\n",
       "  </tbody>\n",
       "</table>\n",
       "</div>"
      ],
      "text/plain": [
       "        id  week  center_id  meal_id  checkout_price  base_price  \\\n",
       "0  1379560     1         55     1885          136.83      152.29   \n",
       "1  1466964     1         55     1993          136.83      135.83   \n",
       "\n",
       "   emailer_for_promotion  homepage_featured  num_orders  city_code  \\\n",
       "0                      0                  0       177.0        647   \n",
       "1                      0                  0       270.0        647   \n",
       "\n",
       "   region_code center_type  op_area   category cuisine  log_target  \\\n",
       "0           56      TYPE_C      2.0  Beverages    Thai    5.176150   \n",
       "1           56      TYPE_C      2.0  Beverages    Thai    5.598422   \n",
       "\n",
       "   price_diff   price_cat  marketing  \n",
       "0       15.46  Addnl_Chgs          0  \n",
       "1       -1.00    Discount          0  "
      ]
     },
     "execution_count": 36,
     "metadata": {},
     "output_type": "execute_result"
    }
   ],
   "source": [
    "combined.head(2)"
   ]
  },
  {
   "cell_type": "code",
   "execution_count": 37,
   "id": "273a6c69-2212-448f-95d1-83858da01bb4",
   "metadata": {},
   "outputs": [
    {
     "data": {
      "image/png": "[encoded data removed]",
      "text/plain": [
       "<Figure size 640x480 with 1 Axes>"
      ]
     },
     "metadata": {},
     "output_type": "display_data"
    }
   ],
   "source": [
    "sns.boxplot(x='category',y='num_orders',data=combined)\n",
    "plt.xticks(rotation=90)\n",
    "plt.show()\n",
    "# Salad, Beverage, RiceBowl, Sandwich, Other Snackes"
   ]
  },
  {
   "cell_type": "code",
   "execution_count": 38,
   "id": "33329433-17fb-4cbd-8f8b-5a6f68c92dbc",
   "metadata": {},
   "outputs": [
    {
     "data": {
      "text/html": [
       "<div>\n",
       "<style scoped>\n",
       "    .dataframe tbody tr th:only-of-type {\n",
       "        vertical-align: middle;\n",
       "    }\n",
       "\n",
       "    .dataframe tbody tr th {\n",
       "        vertical-align: top;\n",
       "    }\n",
       "\n",
       "    .dataframe thead th {\n",
       "        text-align: right;\n",
       "    }\n",
       "</style>\n",
       "<table border=\"1\" class=\"dataframe\">\n",
       "  <thead>\n",
       "    <tr style=\"text-align: right;\">\n",
       "      <th></th>\n",
       "      <th>id</th>\n",
       "      <th>week</th>\n",
       "      <th>center_id</th>\n",
       "      <th>meal_id</th>\n",
       "      <th>checkout_price</th>\n",
       "      <th>base_price</th>\n",
       "      <th>emailer_for_promotion</th>\n",
       "      <th>homepage_featured</th>\n",
       "      <th>num_orders</th>\n",
       "      <th>city_code</th>\n",
       "      <th>region_code</th>\n",
       "      <th>center_type</th>\n",
       "      <th>op_area</th>\n",
       "      <th>category</th>\n",
       "      <th>cuisine</th>\n",
       "      <th>log_target</th>\n",
       "      <th>price_diff</th>\n",
       "      <th>price_cat</th>\n",
       "      <th>marketing</th>\n",
       "    </tr>\n",
       "  </thead>\n",
       "  <tbody>\n",
       "    <tr>\n",
       "      <th>0</th>\n",
       "      <td>1379560</td>\n",
       "      <td>1</td>\n",
       "      <td>55</td>\n",
       "      <td>1885</td>\n",
       "      <td>136.83</td>\n",
       "      <td>152.29</td>\n",
       "      <td>0</td>\n",
       "      <td>0</td>\n",
       "      <td>177.0</td>\n",
       "      <td>647</td>\n",
       "      <td>56</td>\n",
       "      <td>TYPE_C</td>\n",
       "      <td>2.0</td>\n",
       "      <td>Beverages</td>\n",
       "      <td>Thai</td>\n",
       "      <td>5.176150</td>\n",
       "      <td>15.46</td>\n",
       "      <td>Addnl_Chgs</td>\n",
       "      <td>0</td>\n",
       "    </tr>\n",
       "    <tr>\n",
       "      <th>1</th>\n",
       "      <td>1466964</td>\n",
       "      <td>1</td>\n",
       "      <td>55</td>\n",
       "      <td>1993</td>\n",
       "      <td>136.83</td>\n",
       "      <td>135.83</td>\n",
       "      <td>0</td>\n",
       "      <td>0</td>\n",
       "      <td>270.0</td>\n",
       "      <td>647</td>\n",
       "      <td>56</td>\n",
       "      <td>TYPE_C</td>\n",
       "      <td>2.0</td>\n",
       "      <td>Beverages</td>\n",
       "      <td>Thai</td>\n",
       "      <td>5.598422</td>\n",
       "      <td>-1.00</td>\n",
       "      <td>Discount</td>\n",
       "      <td>0</td>\n",
       "    </tr>\n",
       "  </tbody>\n",
       "</table>\n",
       "</div>"
      ],
      "text/plain": [
       "        id  week  center_id  meal_id  checkout_price  base_price  \\\n",
       "0  1379560     1         55     1885          136.83      152.29   \n",
       "1  1466964     1         55     1993          136.83      135.83   \n",
       "\n",
       "   emailer_for_promotion  homepage_featured  num_orders  city_code  \\\n",
       "0                      0                  0       177.0        647   \n",
       "1                      0                  0       270.0        647   \n",
       "\n",
       "   region_code center_type  op_area   category cuisine  log_target  \\\n",
       "0           56      TYPE_C      2.0  Beverages    Thai    5.176150   \n",
       "1           56      TYPE_C      2.0  Beverages    Thai    5.598422   \n",
       "\n",
       "   price_diff   price_cat  marketing  \n",
       "0       15.46  Addnl_Chgs          0  \n",
       "1       -1.00    Discount          0  "
      ]
     },
     "execution_count": 38,
     "metadata": {},
     "output_type": "execute_result"
    }
   ],
   "source": [
    "combined.head(2)"
   ]
  },
  {
   "cell_type": "code",
   "execution_count": 39,
   "id": "6d4760be-4674-4174-8f7b-c552383992c2",
   "metadata": {},
   "outputs": [
    {
     "data": {
      "text/plain": [
       "count    489121.000000\n",
       "mean          4.083865\n",
       "std           1.092163\n",
       "min           0.900000\n",
       "25%           3.600000\n",
       "50%           4.000000\n",
       "75%           4.500000\n",
       "max           7.000000\n",
       "Name: op_area, dtype: float64"
      ]
     },
     "execution_count": 39,
     "metadata": {},
     "output_type": "execute_result"
    }
   ],
   "source": [
    "combined.op_area.describe()"
   ]
  },
  {
   "cell_type": "code",
   "execution_count": 40,
   "id": "f27005d3-079b-4e7c-93bf-587ee3c2f6c9",
   "metadata": {},
   "outputs": [
    {
     "data": {
      "text/plain": [
       "3.141592653589793"
      ]
     },
     "execution_count": 40,
     "metadata": {},
     "output_type": "execute_result"
    }
   ],
   "source": [
    "import scipy.stats as stats\n",
    "import math\n",
    "math.pi"
   ]
  },
  {
   "cell_type": "code",
   "execution_count": 41,
   "id": "9d454179-0f7b-40d2-a56c-ca61ec7062fe",
   "metadata": {},
   "outputs": [],
   "source": [
    "def radii(x):\n",
    "    return(np.sqrt(x/math.pi))\n",
    "combined['radii'] = combined.op_area.apply(radii)   "
   ]
  },
  {
   "cell_type": "code",
   "execution_count": 42,
   "id": "2e97567f-872e-43c1-ab1f-7842cb7adc0a",
   "metadata": {},
   "outputs": [
    {
     "data": {
      "text/html": [
       "<div>\n",
       "<style scoped>\n",
       "    .dataframe tbody tr th:only-of-type {\n",
       "        vertical-align: middle;\n",
       "    }\n",
       "\n",
       "    .dataframe tbody tr th {\n",
       "        vertical-align: top;\n",
       "    }\n",
       "\n",
       "    .dataframe thead th {\n",
       "        text-align: right;\n",
       "    }\n",
       "</style>\n",
       "<table border=\"1\" class=\"dataframe\">\n",
       "  <thead>\n",
       "    <tr style=\"text-align: right;\">\n",
       "      <th></th>\n",
       "      <th>radii</th>\n",
       "      <th>num_orders</th>\n",
       "    </tr>\n",
       "  </thead>\n",
       "  <tbody>\n",
       "    <tr>\n",
       "      <th>radii</th>\n",
       "      <td>1.00000</td>\n",
       "      <td>0.17253</td>\n",
       "    </tr>\n",
       "    <tr>\n",
       "      <th>num_orders</th>\n",
       "      <td>0.17253</td>\n",
       "      <td>1.00000</td>\n",
       "    </tr>\n",
       "  </tbody>\n",
       "</table>\n",
       "</div>"
      ],
      "text/plain": [
       "              radii  num_orders\n",
       "radii       1.00000     0.17253\n",
       "num_orders  0.17253     1.00000"
      ]
     },
     "execution_count": 42,
     "metadata": {},
     "output_type": "execute_result"
    }
   ],
   "source": [
    "combined.loc[:,['radii','num_orders']].corr()"
   ]
  },
  {
   "cell_type": "code",
   "execution_count": 43,
   "id": "0bc2e7f4-de59-466d-a7a4-d52b561ee751",
   "metadata": {},
   "outputs": [
    {
     "data": {
      "text/html": [
       "<div>\n",
       "<style scoped>\n",
       "    .dataframe tbody tr th:only-of-type {\n",
       "        vertical-align: middle;\n",
       "    }\n",
       "\n",
       "    .dataframe tbody tr th {\n",
       "        vertical-align: top;\n",
       "    }\n",
       "\n",
       "    .dataframe thead th {\n",
       "        text-align: right;\n",
       "    }\n",
       "</style>\n",
       "<table border=\"1\" class=\"dataframe\">\n",
       "  <thead>\n",
       "    <tr style=\"text-align: right;\">\n",
       "      <th></th>\n",
       "      <th>id</th>\n",
       "      <th>week</th>\n",
       "      <th>center_id</th>\n",
       "      <th>meal_id</th>\n",
       "      <th>checkout_price</th>\n",
       "      <th>base_price</th>\n",
       "      <th>emailer_for_promotion</th>\n",
       "      <th>homepage_featured</th>\n",
       "      <th>num_orders</th>\n",
       "      <th>city_code</th>\n",
       "      <th>region_code</th>\n",
       "      <th>center_type</th>\n",
       "      <th>op_area</th>\n",
       "      <th>category</th>\n",
       "      <th>cuisine</th>\n",
       "      <th>log_target</th>\n",
       "      <th>price_diff</th>\n",
       "      <th>price_cat</th>\n",
       "      <th>marketing</th>\n",
       "      <th>radii</th>\n",
       "    </tr>\n",
       "  </thead>\n",
       "  <tbody>\n",
       "    <tr>\n",
       "      <th>0</th>\n",
       "      <td>1379560</td>\n",
       "      <td>1</td>\n",
       "      <td>55</td>\n",
       "      <td>1885</td>\n",
       "      <td>136.83</td>\n",
       "      <td>152.29</td>\n",
       "      <td>0</td>\n",
       "      <td>0</td>\n",
       "      <td>177.0</td>\n",
       "      <td>647</td>\n",
       "      <td>56</td>\n",
       "      <td>TYPE_C</td>\n",
       "      <td>2.0</td>\n",
       "      <td>Beverages</td>\n",
       "      <td>Thai</td>\n",
       "      <td>5.176150</td>\n",
       "      <td>15.46</td>\n",
       "      <td>Addnl_Chgs</td>\n",
       "      <td>0</td>\n",
       "      <td>0.797885</td>\n",
       "    </tr>\n",
       "    <tr>\n",
       "      <th>1</th>\n",
       "      <td>1466964</td>\n",
       "      <td>1</td>\n",
       "      <td>55</td>\n",
       "      <td>1993</td>\n",
       "      <td>136.83</td>\n",
       "      <td>135.83</td>\n",
       "      <td>0</td>\n",
       "      <td>0</td>\n",
       "      <td>270.0</td>\n",
       "      <td>647</td>\n",
       "      <td>56</td>\n",
       "      <td>TYPE_C</td>\n",
       "      <td>2.0</td>\n",
       "      <td>Beverages</td>\n",
       "      <td>Thai</td>\n",
       "      <td>5.598422</td>\n",
       "      <td>-1.00</td>\n",
       "      <td>Discount</td>\n",
       "      <td>0</td>\n",
       "      <td>0.797885</td>\n",
       "    </tr>\n",
       "    <tr>\n",
       "      <th>2</th>\n",
       "      <td>1346989</td>\n",
       "      <td>1</td>\n",
       "      <td>55</td>\n",
       "      <td>2539</td>\n",
       "      <td>134.86</td>\n",
       "      <td>135.86</td>\n",
       "      <td>0</td>\n",
       "      <td>0</td>\n",
       "      <td>189.0</td>\n",
       "      <td>647</td>\n",
       "      <td>56</td>\n",
       "      <td>TYPE_C</td>\n",
       "      <td>2.0</td>\n",
       "      <td>Beverages</td>\n",
       "      <td>Thai</td>\n",
       "      <td>5.241747</td>\n",
       "      <td>1.00</td>\n",
       "      <td>Taxes</td>\n",
       "      <td>0</td>\n",
       "      <td>0.797885</td>\n",
       "    </tr>\n",
       "    <tr>\n",
       "      <th>3</th>\n",
       "      <td>1338232</td>\n",
       "      <td>1</td>\n",
       "      <td>55</td>\n",
       "      <td>2139</td>\n",
       "      <td>339.50</td>\n",
       "      <td>437.53</td>\n",
       "      <td>0</td>\n",
       "      <td>0</td>\n",
       "      <td>54.0</td>\n",
       "      <td>647</td>\n",
       "      <td>56</td>\n",
       "      <td>TYPE_C</td>\n",
       "      <td>2.0</td>\n",
       "      <td>Beverages</td>\n",
       "      <td>Indian</td>\n",
       "      <td>3.988984</td>\n",
       "      <td>98.03</td>\n",
       "      <td>Addnl_Chgs</td>\n",
       "      <td>0</td>\n",
       "      <td>0.797885</td>\n",
       "    </tr>\n",
       "    <tr>\n",
       "      <th>4</th>\n",
       "      <td>1448490</td>\n",
       "      <td>1</td>\n",
       "      <td>55</td>\n",
       "      <td>2631</td>\n",
       "      <td>243.50</td>\n",
       "      <td>242.50</td>\n",
       "      <td>0</td>\n",
       "      <td>0</td>\n",
       "      <td>40.0</td>\n",
       "      <td>647</td>\n",
       "      <td>56</td>\n",
       "      <td>TYPE_C</td>\n",
       "      <td>2.0</td>\n",
       "      <td>Beverages</td>\n",
       "      <td>Indian</td>\n",
       "      <td>3.688879</td>\n",
       "      <td>-1.00</td>\n",
       "      <td>Discount</td>\n",
       "      <td>0</td>\n",
       "      <td>0.797885</td>\n",
       "    </tr>\n",
       "    <tr>\n",
       "      <th>5</th>\n",
       "      <td>1270037</td>\n",
       "      <td>1</td>\n",
       "      <td>55</td>\n",
       "      <td>1248</td>\n",
       "      <td>251.23</td>\n",
       "      <td>252.23</td>\n",
       "      <td>0</td>\n",
       "      <td>0</td>\n",
       "      <td>28.0</td>\n",
       "      <td>647</td>\n",
       "      <td>56</td>\n",
       "      <td>TYPE_C</td>\n",
       "      <td>2.0</td>\n",
       "      <td>Beverages</td>\n",
       "      <td>Indian</td>\n",
       "      <td>3.332205</td>\n",
       "      <td>1.00</td>\n",
       "      <td>Taxes</td>\n",
       "      <td>0</td>\n",
       "      <td>0.797885</td>\n",
       "    </tr>\n",
       "    <tr>\n",
       "      <th>6</th>\n",
       "      <td>1191377</td>\n",
       "      <td>1</td>\n",
       "      <td>55</td>\n",
       "      <td>1778</td>\n",
       "      <td>183.36</td>\n",
       "      <td>184.36</td>\n",
       "      <td>0</td>\n",
       "      <td>0</td>\n",
       "      <td>190.0</td>\n",
       "      <td>647</td>\n",
       "      <td>56</td>\n",
       "      <td>TYPE_C</td>\n",
       "      <td>2.0</td>\n",
       "      <td>Beverages</td>\n",
       "      <td>Italian</td>\n",
       "      <td>5.247024</td>\n",
       "      <td>1.00</td>\n",
       "      <td>Taxes</td>\n",
       "      <td>0</td>\n",
       "      <td>0.797885</td>\n",
       "    </tr>\n",
       "    <tr>\n",
       "      <th>7</th>\n",
       "      <td>1499955</td>\n",
       "      <td>1</td>\n",
       "      <td>55</td>\n",
       "      <td>1062</td>\n",
       "      <td>182.36</td>\n",
       "      <td>183.36</td>\n",
       "      <td>0</td>\n",
       "      <td>0</td>\n",
       "      <td>391.0</td>\n",
       "      <td>647</td>\n",
       "      <td>56</td>\n",
       "      <td>TYPE_C</td>\n",
       "      <td>2.0</td>\n",
       "      <td>Beverages</td>\n",
       "      <td>Italian</td>\n",
       "      <td>5.968708</td>\n",
       "      <td>1.00</td>\n",
       "      <td>Taxes</td>\n",
       "      <td>0</td>\n",
       "      <td>0.797885</td>\n",
       "    </tr>\n",
       "    <tr>\n",
       "      <th>8</th>\n",
       "      <td>1025244</td>\n",
       "      <td>1</td>\n",
       "      <td>55</td>\n",
       "      <td>2707</td>\n",
       "      <td>193.06</td>\n",
       "      <td>192.06</td>\n",
       "      <td>0</td>\n",
       "      <td>0</td>\n",
       "      <td>472.0</td>\n",
       "      <td>647</td>\n",
       "      <td>56</td>\n",
       "      <td>TYPE_C</td>\n",
       "      <td>2.0</td>\n",
       "      <td>Beverages</td>\n",
       "      <td>Italian</td>\n",
       "      <td>6.156979</td>\n",
       "      <td>-1.00</td>\n",
       "      <td>Discount</td>\n",
       "      <td>0</td>\n",
       "      <td>0.797885</td>\n",
       "    </tr>\n",
       "    <tr>\n",
       "      <th>9</th>\n",
       "      <td>1054194</td>\n",
       "      <td>1</td>\n",
       "      <td>55</td>\n",
       "      <td>1207</td>\n",
       "      <td>325.92</td>\n",
       "      <td>384.18</td>\n",
       "      <td>0</td>\n",
       "      <td>1</td>\n",
       "      <td>676.0</td>\n",
       "      <td>647</td>\n",
       "      <td>56</td>\n",
       "      <td>TYPE_C</td>\n",
       "      <td>2.0</td>\n",
       "      <td>Beverages</td>\n",
       "      <td>Continental</td>\n",
       "      <td>6.516193</td>\n",
       "      <td>58.26</td>\n",
       "      <td>Addnl_Chgs</td>\n",
       "      <td>1</td>\n",
       "      <td>0.797885</td>\n",
       "    </tr>\n",
       "    <tr>\n",
       "      <th>10</th>\n",
       "      <td>1469367</td>\n",
       "      <td>1</td>\n",
       "      <td>55</td>\n",
       "      <td>1230</td>\n",
       "      <td>323.01</td>\n",
       "      <td>390.00</td>\n",
       "      <td>0</td>\n",
       "      <td>1</td>\n",
       "      <td>823.0</td>\n",
       "      <td>647</td>\n",
       "      <td>56</td>\n",
       "      <td>TYPE_C</td>\n",
       "      <td>2.0</td>\n",
       "      <td>Beverages</td>\n",
       "      <td>Continental</td>\n",
       "      <td>6.712956</td>\n",
       "      <td>66.99</td>\n",
       "      <td>Addnl_Chgs</td>\n",
       "      <td>1</td>\n",
       "      <td>0.797885</td>\n",
       "    </tr>\n",
       "    <tr>\n",
       "      <th>11</th>\n",
       "      <td>1029333</td>\n",
       "      <td>1</td>\n",
       "      <td>55</td>\n",
       "      <td>2322</td>\n",
       "      <td>322.07</td>\n",
       "      <td>388.00</td>\n",
       "      <td>0</td>\n",
       "      <td>1</td>\n",
       "      <td>972.0</td>\n",
       "      <td>647</td>\n",
       "      <td>56</td>\n",
       "      <td>TYPE_C</td>\n",
       "      <td>2.0</td>\n",
       "      <td>Beverages</td>\n",
       "      <td>Continental</td>\n",
       "      <td>6.879356</td>\n",
       "      <td>65.93</td>\n",
       "      <td>Addnl_Chgs</td>\n",
       "      <td>1</td>\n",
       "      <td>0.797885</td>\n",
       "    </tr>\n",
       "    <tr>\n",
       "      <th>12</th>\n",
       "      <td>1446016</td>\n",
       "      <td>1</td>\n",
       "      <td>55</td>\n",
       "      <td>2290</td>\n",
       "      <td>311.43</td>\n",
       "      <td>310.43</td>\n",
       "      <td>0</td>\n",
       "      <td>0</td>\n",
       "      <td>162.0</td>\n",
       "      <td>647</td>\n",
       "      <td>56</td>\n",
       "      <td>TYPE_C</td>\n",
       "      <td>2.0</td>\n",
       "      <td>Rice Bowl</td>\n",
       "      <td>Indian</td>\n",
       "      <td>5.087596</td>\n",
       "      <td>-1.00</td>\n",
       "      <td>Discount</td>\n",
       "      <td>0</td>\n",
       "      <td>0.797885</td>\n",
       "    </tr>\n",
       "    <tr>\n",
       "      <th>13</th>\n",
       "      <td>1244647</td>\n",
       "      <td>1</td>\n",
       "      <td>55</td>\n",
       "      <td>1727</td>\n",
       "      <td>445.23</td>\n",
       "      <td>446.23</td>\n",
       "      <td>0</td>\n",
       "      <td>0</td>\n",
       "      <td>420.0</td>\n",
       "      <td>647</td>\n",
       "      <td>56</td>\n",
       "      <td>TYPE_C</td>\n",
       "      <td>2.0</td>\n",
       "      <td>Rice Bowl</td>\n",
       "      <td>Indian</td>\n",
       "      <td>6.040255</td>\n",
       "      <td>1.00</td>\n",
       "      <td>Taxes</td>\n",
       "      <td>0</td>\n",
       "      <td>0.797885</td>\n",
       "    </tr>\n",
       "    <tr>\n",
       "      <th>14</th>\n",
       "      <td>1378227</td>\n",
       "      <td>1</td>\n",
       "      <td>55</td>\n",
       "      <td>1109</td>\n",
       "      <td>264.84</td>\n",
       "      <td>297.79</td>\n",
       "      <td>1</td>\n",
       "      <td>0</td>\n",
       "      <td>756.0</td>\n",
       "      <td>647</td>\n",
       "      <td>56</td>\n",
       "      <td>TYPE_C</td>\n",
       "      <td>2.0</td>\n",
       "      <td>Rice Bowl</td>\n",
       "      <td>Indian</td>\n",
       "      <td>6.628041</td>\n",
       "      <td>32.95</td>\n",
       "      <td>Addnl_Chgs</td>\n",
       "      <td>1</td>\n",
       "      <td>0.797885</td>\n",
       "    </tr>\n",
       "    <tr>\n",
       "      <th>15</th>\n",
       "      <td>1181556</td>\n",
       "      <td>1</td>\n",
       "      <td>55</td>\n",
       "      <td>2640</td>\n",
       "      <td>282.33</td>\n",
       "      <td>281.33</td>\n",
       "      <td>0</td>\n",
       "      <td>0</td>\n",
       "      <td>108.0</td>\n",
       "      <td>647</td>\n",
       "      <td>56</td>\n",
       "      <td>TYPE_C</td>\n",
       "      <td>2.0</td>\n",
       "      <td>Starters</td>\n",
       "      <td>Thai</td>\n",
       "      <td>4.682131</td>\n",
       "      <td>-1.00</td>\n",
       "      <td>Discount</td>\n",
       "      <td>0</td>\n",
       "      <td>0.797885</td>\n",
       "    </tr>\n",
       "    <tr>\n",
       "      <th>16</th>\n",
       "      <td>1313873</td>\n",
       "      <td>1</td>\n",
       "      <td>55</td>\n",
       "      <td>2306</td>\n",
       "      <td>243.50</td>\n",
       "      <td>340.53</td>\n",
       "      <td>0</td>\n",
       "      <td>0</td>\n",
       "      <td>28.0</td>\n",
       "      <td>647</td>\n",
       "      <td>56</td>\n",
       "      <td>TYPE_C</td>\n",
       "      <td>2.0</td>\n",
       "      <td>Pasta</td>\n",
       "      <td>Italian</td>\n",
       "      <td>3.332205</td>\n",
       "      <td>97.03</td>\n",
       "      <td>Addnl_Chgs</td>\n",
       "      <td>0</td>\n",
       "      <td>0.797885</td>\n",
       "    </tr>\n",
       "    <tr>\n",
       "      <th>17</th>\n",
       "      <td>1067069</td>\n",
       "      <td>1</td>\n",
       "      <td>55</td>\n",
       "      <td>2126</td>\n",
       "      <td>486.00</td>\n",
       "      <td>485.00</td>\n",
       "      <td>0</td>\n",
       "      <td>0</td>\n",
       "      <td>28.0</td>\n",
       "      <td>647</td>\n",
       "      <td>56</td>\n",
       "      <td>TYPE_C</td>\n",
       "      <td>2.0</td>\n",
       "      <td>Pasta</td>\n",
       "      <td>Italian</td>\n",
       "      <td>3.332205</td>\n",
       "      <td>-1.00</td>\n",
       "      <td>Discount</td>\n",
       "      <td>0</td>\n",
       "      <td>0.797885</td>\n",
       "    </tr>\n",
       "    <tr>\n",
       "      <th>18</th>\n",
       "      <td>1058482</td>\n",
       "      <td>1</td>\n",
       "      <td>55</td>\n",
       "      <td>2826</td>\n",
       "      <td>306.58</td>\n",
       "      <td>305.58</td>\n",
       "      <td>0</td>\n",
       "      <td>0</td>\n",
       "      <td>188.0</td>\n",
       "      <td>647</td>\n",
       "      <td>56</td>\n",
       "      <td>TYPE_C</td>\n",
       "      <td>2.0</td>\n",
       "      <td>Sandwich</td>\n",
       "      <td>Italian</td>\n",
       "      <td>5.236442</td>\n",
       "      <td>-1.00</td>\n",
       "      <td>Discount</td>\n",
       "      <td>0</td>\n",
       "      <td>0.797885</td>\n",
       "    </tr>\n",
       "    <tr>\n",
       "      <th>19</th>\n",
       "      <td>1240935</td>\n",
       "      <td>1</td>\n",
       "      <td>55</td>\n",
       "      <td>1754</td>\n",
       "      <td>289.12</td>\n",
       "      <td>289.12</td>\n",
       "      <td>0</td>\n",
       "      <td>0</td>\n",
       "      <td>485.0</td>\n",
       "      <td>647</td>\n",
       "      <td>56</td>\n",
       "      <td>TYPE_C</td>\n",
       "      <td>2.0</td>\n",
       "      <td>Sandwich</td>\n",
       "      <td>Italian</td>\n",
       "      <td>6.184149</td>\n",
       "      <td>0.00</td>\n",
       "      <td>Taxes</td>\n",
       "      <td>0</td>\n",
       "      <td>0.797885</td>\n",
       "    </tr>\n",
       "  </tbody>\n",
       "</table>\n",
       "</div>"
      ],
      "text/plain": [
       "         id  week  center_id  meal_id  checkout_price  base_price  \\\n",
       "0   1379560     1         55     1885          136.83      152.29   \n",
       "1   1466964     1         55     1993          136.83      135.83   \n",
       "2   1346989     1         55     2539          134.86      135.86   \n",
       "3   1338232     1         55     2139          339.50      437.53   \n",
       "4   1448490     1         55     2631          243.50      242.50   \n",
       "5   1270037     1         55     1248          251.23      252.23   \n",
       "6   1191377     1         55     1778          183.36      184.36   \n",
       "7   1499955     1         55     1062          182.36      183.36   \n",
       "8   1025244     1         55     2707          193.06      192.06   \n",
       "9   1054194     1         55     1207          325.92      384.18   \n",
       "10  1469367     1         55     1230          323.01      390.00   \n",
       "11  1029333     1         55     2322          322.07      388.00   \n",
       "12  1446016     1         55     2290          311.43      310.43   \n",
       "13  1244647     1         55     1727          445.23      446.23   \n",
       "14  1378227     1         55     1109          264.84      297.79   \n",
       "15  1181556     1         55     2640          282.33      281.33   \n",
       "16  1313873     1         55     2306          243.50      340.53   \n",
       "17  1067069     1         55     2126          486.00      485.00   \n",
       "18  1058482     1         55     2826          306.58      305.58   \n",
       "19  1240935     1         55     1754          289.12      289.12   \n",
       "\n",
       "    emailer_for_promotion  homepage_featured  num_orders  city_code  \\\n",
       "0                       0                  0       177.0        647   \n",
       "1                       0                  0       270.0        647   \n",
       "2                       0                  0       189.0        647   \n",
       "3                       0                  0        54.0        647   \n",
       "4                       0                  0        40.0        647   \n",
       "5                       0                  0        28.0        647   \n",
       "6                       0                  0       190.0        647   \n",
       "7                       0                  0       391.0        647   \n",
       "8                       0                  0       472.0        647   \n",
       "9                       0                  1       676.0        647   \n",
       "10                      0                  1       823.0        647   \n",
       "11                      0                  1       972.0        647   \n",
       "12                      0                  0       162.0        647   \n",
       "13                      0                  0       420.0        647   \n",
       "14                      1                  0       756.0        647   \n",
       "15                      0                  0       108.0        647   \n",
       "16                      0                  0        28.0        647   \n",
       "17                      0                  0        28.0        647   \n",
       "18                      0                  0       188.0        647   \n",
       "19                      0                  0       485.0        647   \n",
       "\n",
       "    region_code center_type  op_area   category      cuisine  log_target  \\\n",
       "0            56      TYPE_C      2.0  Beverages         Thai    5.176150   \n",
       "1            56      TYPE_C      2.0  Beverages         Thai    5.598422   \n",
       "2            56      TYPE_C      2.0  Beverages         Thai    5.241747   \n",
       "3            56      TYPE_C      2.0  Beverages       Indian    3.988984   \n",
       "4            56      TYPE_C      2.0  Beverages       Indian    3.688879   \n",
       "5            56      TYPE_C      2.0  Beverages       Indian    3.332205   \n",
       "6            56      TYPE_C      2.0  Beverages      Italian    5.247024   \n",
       "7            56      TYPE_C      2.0  Beverages      Italian    5.968708   \n",
       "8            56      TYPE_C      2.0  Beverages      Italian    6.156979   \n",
       "9            56      TYPE_C      2.0  Beverages  Continental    6.516193   \n",
       "10           56      TYPE_C      2.0  Beverages  Continental    6.712956   \n",
       "11           56      TYPE_C      2.0  Beverages  Continental    6.879356   \n",
       "12           56      TYPE_C      2.0  Rice Bowl       Indian    5.087596   \n",
       "13           56      TYPE_C      2.0  Rice Bowl       Indian    6.040255   \n",
       "14           56      TYPE_C      2.0  Rice Bowl       Indian    6.628041   \n",
       "15           56      TYPE_C      2.0   Starters         Thai    4.682131   \n",
       "16           56      TYPE_C      2.0      Pasta      Italian    3.332205   \n",
       "17           56      TYPE_C      2.0      Pasta      Italian    3.332205   \n",
       "18           56      TYPE_C      2.0   Sandwich      Italian    5.236442   \n",
       "19           56      TYPE_C      2.0   Sandwich      Italian    6.184149   \n",
       "\n",
       "    price_diff   price_cat  marketing     radii  \n",
       "0        15.46  Addnl_Chgs          0  0.797885  \n",
       "1        -1.00    Discount          0  0.797885  \n",
       "2         1.00       Taxes          0  0.797885  \n",
       "3        98.03  Addnl_Chgs          0  0.797885  \n",
       "4        -1.00    Discount          0  0.797885  \n",
       "5         1.00       Taxes          0  0.797885  \n",
       "6         1.00       Taxes          0  0.797885  \n",
       "7         1.00       Taxes          0  0.797885  \n",
       "8        -1.00    Discount          0  0.797885  \n",
       "9        58.26  Addnl_Chgs          1  0.797885  \n",
       "10       66.99  Addnl_Chgs          1  0.797885  \n",
       "11       65.93  Addnl_Chgs          1  0.797885  \n",
       "12       -1.00    Discount          0  0.797885  \n",
       "13        1.00       Taxes          0  0.797885  \n",
       "14       32.95  Addnl_Chgs          1  0.797885  \n",
       "15       -1.00    Discount          0  0.797885  \n",
       "16       97.03  Addnl_Chgs          0  0.797885  \n",
       "17       -1.00    Discount          0  0.797885  \n",
       "18       -1.00    Discount          0  0.797885  \n",
       "19        0.00       Taxes          0  0.797885  "
      ]
     },
     "execution_count": 43,
     "metadata": {},
     "output_type": "execute_result"
    }
   ],
   "source": [
    "combined.head(20)"
   ]
  },
  {
   "cell_type": "code",
   "execution_count": 44,
   "id": "c50775a0-c112-4d0d-805b-699aa2a45946",
   "metadata": {},
   "outputs": [],
   "source": [
    "# Centre Type, Region code, and city code"
   ]
  },
  {
   "cell_type": "code",
   "execution_count": 45,
   "id": "6b48ac33-2a47-4968-94ee-473d2a81a819",
   "metadata": {},
   "outputs": [
    {
     "data": {
      "image/png": "[encoded data removed]",
      "text/plain": [
       "<Figure size 640x480 with 1 Axes>"
      ]
     },
     "metadata": {},
     "output_type": "display_data"
    }
   ],
   "source": [
    "sns.boxplot(x='center_type',y='num_orders',data = combined)\n",
    "plt.show()"
   ]
  },
  {
   "cell_type": "code",
   "execution_count": 46,
   "id": "ab34a002-b5a1-4c7e-8a83-3c8a5b976a92",
   "metadata": {},
   "outputs": [
    {
     "data": {
      "image/png": "[encoded data removed]",
      "text/plain": [
       "<Figure size 640x480 with 1 Axes>"
      ]
     },
     "metadata": {},
     "output_type": "display_data"
    }
   ],
   "source": [
    "sns.boxplot(x='region_code',y='num_orders',data = combined)\n",
    "plt.show()"
   ]
  },
  {
   "cell_type": "code",
   "execution_count": 47,
   "id": "939047e9-02fc-494e-ae7a-d5a55508decb",
   "metadata": {},
   "outputs": [
    {
     "data": {
      "image/png": "[encoded data removed]",
      "text/plain": [
       "<Figure size 2000x1500 with 1 Axes>"
      ]
     },
     "metadata": {},
     "output_type": "display_data"
    }
   ],
   "source": [
    "plt.figure(figsize=(20,15))\n",
    "sns.boxplot(x='city_code',y='num_orders',data = combined)\n",
    "plt.xticks(rotation = 90)\n",
    "plt.show()"
   ]
  },
  {
   "cell_type": "code",
   "execution_count": 48,
   "id": "96986fe3-540c-4335-8399-70d906cfcce3",
   "metadata": {},
   "outputs": [
    {
     "data": {
      "text/plain": [
       "51"
      ]
     },
     "execution_count": 48,
     "metadata": {},
     "output_type": "execute_result"
    }
   ],
   "source": [
    "combined.city_code.nunique()"
   ]
  },
  {
   "cell_type": "code",
   "execution_count": 49,
   "id": "c9e25bea-ef4f-4704-b9c4-b32b1820c2a9",
   "metadata": {},
   "outputs": [
    {
     "data": {
      "text/plain": [
       "Index([590, 526, 638, 522, 517], dtype='int64', name='city_code')"
      ]
     },
     "execution_count": 49,
     "metadata": {},
     "output_type": "execute_result"
    }
   ],
   "source": [
    "combined.city_code.value_counts()[:5].index"
   ]
  },
  {
   "cell_type": "code",
   "execution_count": 50,
   "id": "69c572f6-b7ae-4cc3-bdbb-f38b7f7281b7",
   "metadata": {},
   "outputs": [
    {
     "data": {
      "text/html": [
       "<div>\n",
       "<style scoped>\n",
       "    .dataframe tbody tr th:only-of-type {\n",
       "        vertical-align: middle;\n",
       "    }\n",
       "\n",
       "    .dataframe tbody tr th {\n",
       "        vertical-align: top;\n",
       "    }\n",
       "\n",
       "    .dataframe thead th {\n",
       "        text-align: right;\n",
       "    }\n",
       "</style>\n",
       "<table border=\"1\" class=\"dataframe\">\n",
       "  <thead>\n",
       "    <tr style=\"text-align: right;\">\n",
       "      <th></th>\n",
       "      <th>id</th>\n",
       "      <th>week</th>\n",
       "      <th>center_id</th>\n",
       "      <th>meal_id</th>\n",
       "      <th>checkout_price</th>\n",
       "      <th>base_price</th>\n",
       "      <th>emailer_for_promotion</th>\n",
       "      <th>homepage_featured</th>\n",
       "      <th>num_orders</th>\n",
       "      <th>city_code</th>\n",
       "      <th>region_code</th>\n",
       "      <th>center_type</th>\n",
       "      <th>op_area</th>\n",
       "      <th>category</th>\n",
       "      <th>cuisine</th>\n",
       "      <th>log_target</th>\n",
       "      <th>price_diff</th>\n",
       "      <th>price_cat</th>\n",
       "      <th>marketing</th>\n",
       "      <th>radii</th>\n",
       "    </tr>\n",
       "  </thead>\n",
       "  <tbody>\n",
       "    <tr>\n",
       "      <th>0</th>\n",
       "      <td>1379560</td>\n",
       "      <td>1</td>\n",
       "      <td>55</td>\n",
       "      <td>1885</td>\n",
       "      <td>136.83</td>\n",
       "      <td>152.29</td>\n",
       "      <td>0</td>\n",
       "      <td>0</td>\n",
       "      <td>177.0</td>\n",
       "      <td>647</td>\n",
       "      <td>56</td>\n",
       "      <td>TYPE_C</td>\n",
       "      <td>2.0</td>\n",
       "      <td>Beverages</td>\n",
       "      <td>Thai</td>\n",
       "      <td>5.176150</td>\n",
       "      <td>15.46</td>\n",
       "      <td>Addnl_Chgs</td>\n",
       "      <td>0</td>\n",
       "      <td>0.797885</td>\n",
       "    </tr>\n",
       "    <tr>\n",
       "      <th>1</th>\n",
       "      <td>1466964</td>\n",
       "      <td>1</td>\n",
       "      <td>55</td>\n",
       "      <td>1993</td>\n",
       "      <td>136.83</td>\n",
       "      <td>135.83</td>\n",
       "      <td>0</td>\n",
       "      <td>0</td>\n",
       "      <td>270.0</td>\n",
       "      <td>647</td>\n",
       "      <td>56</td>\n",
       "      <td>TYPE_C</td>\n",
       "      <td>2.0</td>\n",
       "      <td>Beverages</td>\n",
       "      <td>Thai</td>\n",
       "      <td>5.598422</td>\n",
       "      <td>-1.00</td>\n",
       "      <td>Discount</td>\n",
       "      <td>0</td>\n",
       "      <td>0.797885</td>\n",
       "    </tr>\n",
       "    <tr>\n",
       "      <th>2</th>\n",
       "      <td>1346989</td>\n",
       "      <td>1</td>\n",
       "      <td>55</td>\n",
       "      <td>2539</td>\n",
       "      <td>134.86</td>\n",
       "      <td>135.86</td>\n",
       "      <td>0</td>\n",
       "      <td>0</td>\n",
       "      <td>189.0</td>\n",
       "      <td>647</td>\n",
       "      <td>56</td>\n",
       "      <td>TYPE_C</td>\n",
       "      <td>2.0</td>\n",
       "      <td>Beverages</td>\n",
       "      <td>Thai</td>\n",
       "      <td>5.241747</td>\n",
       "      <td>1.00</td>\n",
       "      <td>Taxes</td>\n",
       "      <td>0</td>\n",
       "      <td>0.797885</td>\n",
       "    </tr>\n",
       "    <tr>\n",
       "      <th>3</th>\n",
       "      <td>1338232</td>\n",
       "      <td>1</td>\n",
       "      <td>55</td>\n",
       "      <td>2139</td>\n",
       "      <td>339.50</td>\n",
       "      <td>437.53</td>\n",
       "      <td>0</td>\n",
       "      <td>0</td>\n",
       "      <td>54.0</td>\n",
       "      <td>647</td>\n",
       "      <td>56</td>\n",
       "      <td>TYPE_C</td>\n",
       "      <td>2.0</td>\n",
       "      <td>Beverages</td>\n",
       "      <td>Indian</td>\n",
       "      <td>3.988984</td>\n",
       "      <td>98.03</td>\n",
       "      <td>Addnl_Chgs</td>\n",
       "      <td>0</td>\n",
       "      <td>0.797885</td>\n",
       "    </tr>\n",
       "    <tr>\n",
       "      <th>4</th>\n",
       "      <td>1448490</td>\n",
       "      <td>1</td>\n",
       "      <td>55</td>\n",
       "      <td>2631</td>\n",
       "      <td>243.50</td>\n",
       "      <td>242.50</td>\n",
       "      <td>0</td>\n",
       "      <td>0</td>\n",
       "      <td>40.0</td>\n",
       "      <td>647</td>\n",
       "      <td>56</td>\n",
       "      <td>TYPE_C</td>\n",
       "      <td>2.0</td>\n",
       "      <td>Beverages</td>\n",
       "      <td>Indian</td>\n",
       "      <td>3.688879</td>\n",
       "      <td>-1.00</td>\n",
       "      <td>Discount</td>\n",
       "      <td>0</td>\n",
       "      <td>0.797885</td>\n",
       "    </tr>\n",
       "  </tbody>\n",
       "</table>\n",
       "</div>"
      ],
      "text/plain": [
       "        id  week  center_id  meal_id  checkout_price  base_price  \\\n",
       "0  1379560     1         55     1885          136.83      152.29   \n",
       "1  1466964     1         55     1993          136.83      135.83   \n",
       "2  1346989     1         55     2539          134.86      135.86   \n",
       "3  1338232     1         55     2139          339.50      437.53   \n",
       "4  1448490     1         55     2631          243.50      242.50   \n",
       "\n",
       "   emailer_for_promotion  homepage_featured  num_orders  city_code  \\\n",
       "0                      0                  0       177.0        647   \n",
       "1                      0                  0       270.0        647   \n",
       "2                      0                  0       189.0        647   \n",
       "3                      0                  0        54.0        647   \n",
       "4                      0                  0        40.0        647   \n",
       "\n",
       "   region_code center_type  op_area   category cuisine  log_target  \\\n",
       "0           56      TYPE_C      2.0  Beverages    Thai    5.176150   \n",
       "1           56      TYPE_C      2.0  Beverages    Thai    5.598422   \n",
       "2           56      TYPE_C      2.0  Beverages    Thai    5.241747   \n",
       "3           56      TYPE_C      2.0  Beverages  Indian    3.988984   \n",
       "4           56      TYPE_C      2.0  Beverages  Indian    3.688879   \n",
       "\n",
       "   price_diff   price_cat  marketing     radii  \n",
       "0       15.46  Addnl_Chgs          0  0.797885  \n",
       "1       -1.00    Discount          0  0.797885  \n",
       "2        1.00       Taxes          0  0.797885  \n",
       "3       98.03  Addnl_Chgs          0  0.797885  \n",
       "4       -1.00    Discount          0  0.797885  "
      ]
     },
     "execution_count": 50,
     "metadata": {},
     "output_type": "execute_result"
    }
   ],
   "source": [
    "combined.head()"
   ]
  },
  {
   "cell_type": "code",
   "execution_count": 51,
   "id": "cf4bf331-f246-4368-a1b3-32ff925c5082",
   "metadata": {},
   "outputs": [
    {
     "data": {
      "text/plain": [
       "count    489121.000000\n",
       "mean         79.810613\n",
       "std          44.343325\n",
       "min           1.000000\n",
       "25%          42.000000\n",
       "50%          81.000000\n",
       "75%         118.000000\n",
       "max         155.000000\n",
       "Name: week, dtype: float64"
      ]
     },
     "execution_count": 51,
     "metadata": {},
     "output_type": "execute_result"
    }
   ],
   "source": [
    "combined.week.describe()"
   ]
  },
  {
   "cell_type": "code",
   "execution_count": 52,
   "id": "b7ac8508-3d42-4b4e-a23d-bc101cc6ad57",
   "metadata": {},
   "outputs": [
    {
     "data": {
      "text/plain": [
       "2.980769230769231"
      ]
     },
     "execution_count": 52,
     "metadata": {},
     "output_type": "execute_result"
    }
   ],
   "source": [
    "155/52"
   ]
  },
  {
   "cell_type": "code",
   "execution_count": 53,
   "id": "8812fd39-9985-41f1-ab9b-9015d7497480",
   "metadata": {},
   "outputs": [],
   "source": [
    "def year(x):\n",
    "    if x<=52:\n",
    "        return('Year1')\n",
    "    elif x<=104:\n",
    "        return('Year2')\n",
    "    else:\n",
    "        return('Year3')"
   ]
  },
  {
   "cell_type": "code",
   "execution_count": 54,
   "id": "6a1ddd6a-8c34-4300-985a-765b66bb7ab6",
   "metadata": {},
   "outputs": [],
   "source": [
    "combined['Year'] = combined.week.apply(year)"
   ]
  },
  {
   "cell_type": "code",
   "execution_count": 55,
   "id": "fbe90734-d356-4e4c-becf-0512f08bb900",
   "metadata": {},
   "outputs": [
    {
     "data": {
      "image/png": "[encoded data removed]",
      "text/plain": [
       "<Figure size 640x480 with 1 Axes>"
      ]
     },
     "metadata": {},
     "output_type": "display_data"
    }
   ],
   "source": [
    "sns.boxplot(x='Year',y='num_orders',data=combined)\n",
    "plt.show()"
   ]
  },
  {
   "cell_type": "code",
   "execution_count": 56,
   "id": "83dff8d6-15be-46ff-a4fe-8e940bbbd953",
   "metadata": {},
   "outputs": [
    {
     "data": {
      "text/plain": [
       "155"
      ]
     },
     "execution_count": 56,
     "metadata": {},
     "output_type": "execute_result"
    }
   ],
   "source": [
    "np.max(combined.week)"
   ]
  },
  {
   "cell_type": "code",
   "execution_count": 57,
   "id": "fac19921-3adf-4cb8-bca7-0d85fde285a4",
   "metadata": {},
   "outputs": [],
   "source": [
    "# max_week = 115"
   ]
  },
  {
   "cell_type": "code",
   "execution_count": 58,
   "id": "80a9d0ed-94ba-49df-bac3-cd99aac9f8dd",
   "metadata": {},
   "outputs": [
    {
     "data": {
      "image/png": "[encoded data removed]",
      "text/plain": [
       "<Figure size 640x480 with 1 Axes>"
      ]
     },
     "metadata": {},
     "output_type": "display_data"
    }
   ],
   "source": [
    "sns.lineplot(x='week',y='num_orders',data=combined)\n",
    "plt.show()"
   ]
  },
  {
   "cell_type": "code",
   "execution_count": 59,
   "id": "7835a001-dcd0-463e-ad35-344f9923cc5c",
   "metadata": {},
   "outputs": [
    {
     "data": {
      "image/png": "[encoded data removed]",
      "text/plain": [
       "<Figure size 1000x600 with 1 Axes>"
      ]
     },
     "metadata": {},
     "output_type": "display_data"
    }
   ],
   "source": [
    "combined['sin_week'] = np.sin(2 * np.pi * combined['week'] / 52)\n",
    "plt.figure(figsize=(10, 6))\n",
    "sns.lineplot(data=combined, x='week', y='sin_week')\n",
    "plt.title('Sine Transformation of Weeks')\n",
    "plt.xlabel('Week')\n",
    "plt.ylabel('Sine of Week')\n",
    "plt.show()"
   ]
  },
  {
   "cell_type": "code",
   "execution_count": 60,
   "id": "906ae401-daf1-4520-8607-94579ca197ad",
   "metadata": {},
   "outputs": [
    {
     "data": {
      "image/png": "[encoded data removed]",
      "text/plain": [
       "<Figure size 1000x600 with 1 Axes>"
      ]
     },
     "metadata": {},
     "output_type": "display_data"
    }
   ],
   "source": [
    "combined['cos_week'] = np.cos(2 * np.pi * combined['week'] / 52)\n",
    "plt.figure(figsize=(10, 6))\n",
    "sns.lineplot(data=combined, x='week', y='cos_week')\n",
    "plt.title('Cosine Transformation of Weeks')\n",
    "plt.xlabel('Week')\n",
    "plt.ylabel('Cosine of Week')\n",
    "plt.show()"
   ]
  },
  {
   "cell_type": "code",
   "execution_count": 61,
   "id": "88491d8e-6e16-429f-80f0-05bd235aca40",
   "metadata": {},
   "outputs": [
    {
     "data": {
      "text/html": [
       "<div>\n",
       "<style scoped>\n",
       "    .dataframe tbody tr th:only-of-type {\n",
       "        vertical-align: middle;\n",
       "    }\n",
       "\n",
       "    .dataframe tbody tr th {\n",
       "        vertical-align: top;\n",
       "    }\n",
       "\n",
       "    .dataframe thead th {\n",
       "        text-align: right;\n",
       "    }\n",
       "</style>\n",
       "<table border=\"1\" class=\"dataframe\">\n",
       "  <thead>\n",
       "    <tr style=\"text-align: right;\">\n",
       "      <th></th>\n",
       "      <th>id</th>\n",
       "      <th>week</th>\n",
       "      <th>center_id</th>\n",
       "      <th>meal_id</th>\n",
       "      <th>checkout_price</th>\n",
       "      <th>base_price</th>\n",
       "      <th>emailer_for_promotion</th>\n",
       "      <th>homepage_featured</th>\n",
       "      <th>num_orders</th>\n",
       "      <th>city_code</th>\n",
       "      <th>...</th>\n",
       "      <th>category</th>\n",
       "      <th>cuisine</th>\n",
       "      <th>log_target</th>\n",
       "      <th>price_diff</th>\n",
       "      <th>price_cat</th>\n",
       "      <th>marketing</th>\n",
       "      <th>radii</th>\n",
       "      <th>Year</th>\n",
       "      <th>sin_week</th>\n",
       "      <th>cos_week</th>\n",
       "    </tr>\n",
       "  </thead>\n",
       "  <tbody>\n",
       "    <tr>\n",
       "      <th>0</th>\n",
       "      <td>1379560</td>\n",
       "      <td>1</td>\n",
       "      <td>55</td>\n",
       "      <td>1885</td>\n",
       "      <td>136.83</td>\n",
       "      <td>152.29</td>\n",
       "      <td>0</td>\n",
       "      <td>0</td>\n",
       "      <td>177.0</td>\n",
       "      <td>647</td>\n",
       "      <td>...</td>\n",
       "      <td>Beverages</td>\n",
       "      <td>Thai</td>\n",
       "      <td>5.176150</td>\n",
       "      <td>15.46</td>\n",
       "      <td>Addnl_Chgs</td>\n",
       "      <td>0</td>\n",
       "      <td>0.797885</td>\n",
       "      <td>Year1</td>\n",
       "      <td>0.120537</td>\n",
       "      <td>0.992709</td>\n",
       "    </tr>\n",
       "    <tr>\n",
       "      <th>1</th>\n",
       "      <td>1466964</td>\n",
       "      <td>1</td>\n",
       "      <td>55</td>\n",
       "      <td>1993</td>\n",
       "      <td>136.83</td>\n",
       "      <td>135.83</td>\n",
       "      <td>0</td>\n",
       "      <td>0</td>\n",
       "      <td>270.0</td>\n",
       "      <td>647</td>\n",
       "      <td>...</td>\n",
       "      <td>Beverages</td>\n",
       "      <td>Thai</td>\n",
       "      <td>5.598422</td>\n",
       "      <td>-1.00</td>\n",
       "      <td>Discount</td>\n",
       "      <td>0</td>\n",
       "      <td>0.797885</td>\n",
       "      <td>Year1</td>\n",
       "      <td>0.120537</td>\n",
       "      <td>0.992709</td>\n",
       "    </tr>\n",
       "    <tr>\n",
       "      <th>2</th>\n",
       "      <td>1346989</td>\n",
       "      <td>1</td>\n",
       "      <td>55</td>\n",
       "      <td>2539</td>\n",
       "      <td>134.86</td>\n",
       "      <td>135.86</td>\n",
       "      <td>0</td>\n",
       "      <td>0</td>\n",
       "      <td>189.0</td>\n",
       "      <td>647</td>\n",
       "      <td>...</td>\n",
       "      <td>Beverages</td>\n",
       "      <td>Thai</td>\n",
       "      <td>5.241747</td>\n",
       "      <td>1.00</td>\n",
       "      <td>Taxes</td>\n",
       "      <td>0</td>\n",
       "      <td>0.797885</td>\n",
       "      <td>Year1</td>\n",
       "      <td>0.120537</td>\n",
       "      <td>0.992709</td>\n",
       "    </tr>\n",
       "    <tr>\n",
       "      <th>3</th>\n",
       "      <td>1338232</td>\n",
       "      <td>1</td>\n",
       "      <td>55</td>\n",
       "      <td>2139</td>\n",
       "      <td>339.50</td>\n",
       "      <td>437.53</td>\n",
       "      <td>0</td>\n",
       "      <td>0</td>\n",
       "      <td>54.0</td>\n",
       "      <td>647</td>\n",
       "      <td>...</td>\n",
       "      <td>Beverages</td>\n",
       "      <td>Indian</td>\n",
       "      <td>3.988984</td>\n",
       "      <td>98.03</td>\n",
       "      <td>Addnl_Chgs</td>\n",
       "      <td>0</td>\n",
       "      <td>0.797885</td>\n",
       "      <td>Year1</td>\n",
       "      <td>0.120537</td>\n",
       "      <td>0.992709</td>\n",
       "    </tr>\n",
       "    <tr>\n",
       "      <th>4</th>\n",
       "      <td>1448490</td>\n",
       "      <td>1</td>\n",
       "      <td>55</td>\n",
       "      <td>2631</td>\n",
       "      <td>243.50</td>\n",
       "      <td>242.50</td>\n",
       "      <td>0</td>\n",
       "      <td>0</td>\n",
       "      <td>40.0</td>\n",
       "      <td>647</td>\n",
       "      <td>...</td>\n",
       "      <td>Beverages</td>\n",
       "      <td>Indian</td>\n",
       "      <td>3.688879</td>\n",
       "      <td>-1.00</td>\n",
       "      <td>Discount</td>\n",
       "      <td>0</td>\n",
       "      <td>0.797885</td>\n",
       "      <td>Year1</td>\n",
       "      <td>0.120537</td>\n",
       "      <td>0.992709</td>\n",
       "    </tr>\n",
       "  </tbody>\n",
       "</table>\n",
       "<p>5 rows × 23 columns</p>\n",
       "</div>"
      ],
      "text/plain": [
       "        id  week  center_id  meal_id  checkout_price  base_price  \\\n",
       "0  1379560     1         55     1885          136.83      152.29   \n",
       "1  1466964     1         55     1993          136.83      135.83   \n",
       "2  1346989     1         55     2539          134.86      135.86   \n",
       "3  1338232     1         55     2139          339.50      437.53   \n",
       "4  1448490     1         55     2631          243.50      242.50   \n",
       "\n",
       "   emailer_for_promotion  homepage_featured  num_orders  city_code  ...  \\\n",
       "0                      0                  0       177.0        647  ...   \n",
       "1                      0                  0       270.0        647  ...   \n",
       "2                      0                  0       189.0        647  ...   \n",
       "3                      0                  0        54.0        647  ...   \n",
       "4                      0                  0        40.0        647  ...   \n",
       "\n",
       "    category cuisine  log_target price_diff   price_cat  marketing     radii  \\\n",
       "0  Beverages    Thai    5.176150      15.46  Addnl_Chgs          0  0.797885   \n",
       "1  Beverages    Thai    5.598422      -1.00    Discount          0  0.797885   \n",
       "2  Beverages    Thai    5.241747       1.00       Taxes          0  0.797885   \n",
       "3  Beverages  Indian    3.988984      98.03  Addnl_Chgs          0  0.797885   \n",
       "4  Beverages  Indian    3.688879      -1.00    Discount          0  0.797885   \n",
       "\n",
       "    Year  sin_week  cos_week  \n",
       "0  Year1  0.120537  0.992709  \n",
       "1  Year1  0.120537  0.992709  \n",
       "2  Year1  0.120537  0.992709  \n",
       "3  Year1  0.120537  0.992709  \n",
       "4  Year1  0.120537  0.992709  \n",
       "\n",
       "[5 rows x 23 columns]"
      ]
     },
     "execution_count": 61,
     "metadata": {},
     "output_type": "execute_result"
    }
   ],
   "source": [
    "combined.head()"
   ]
  },
  {
   "cell_type": "code",
   "execution_count": 62,
   "id": "636b4c68-c617-45ea-a8b8-40c5196be0c9",
   "metadata": {},
   "outputs": [
    {
     "data": {
      "text/plain": [
       "489121"
      ]
     },
     "execution_count": 62,
     "metadata": {},
     "output_type": "execute_result"
    }
   ],
   "source": [
    "combined['id'].nunique()"
   ]
  },
  {
   "cell_type": "code",
   "execution_count": 63,
   "id": "ed37bfd7-686d-4f08-b6bc-f23c4f47ec16",
   "metadata": {},
   "outputs": [],
   "source": [
    "# Dropping 4 features\n",
    "combined.drop(['id','week','emailer_for_promotion','homepage_featured'],axis=1,inplace=True)"
   ]
  },
  {
   "cell_type": "code",
   "execution_count": 64,
   "id": "7f9b686b-10e9-4773-bfc3-f83103c47a02",
   "metadata": {},
   "outputs": [
    {
     "data": {
      "text/plain": [
       "center_id           int64\n",
       "meal_id             int64\n",
       "checkout_price    float64\n",
       "base_price        float64\n",
       "num_orders        float64\n",
       "city_code           int64\n",
       "region_code         int64\n",
       "center_type        object\n",
       "op_area           float64\n",
       "category           object\n",
       "cuisine            object\n",
       "log_target        float64\n",
       "price_diff        float64\n",
       "price_cat          object\n",
       "marketing           int64\n",
       "radii             float64\n",
       "Year               object\n",
       "sin_week          float64\n",
       "cos_week          float64\n",
       "dtype: object"
      ]
     },
     "execution_count": 64,
     "metadata": {},
     "output_type": "execute_result"
    }
   ],
   "source": [
    "combined.dtypes"
   ]
  },
  {
   "cell_type": "code",
   "execution_count": 65,
   "id": "0ae5d6a7-a4a8-47b5-a214-8da3c36fba76",
   "metadata": {},
   "outputs": [
    {
     "data": {
      "text/plain": [
       "(489121, 19)"
      ]
     },
     "execution_count": 65,
     "metadata": {},
     "output_type": "execute_result"
    }
   ],
   "source": [
    "combined.shape"
   ]
  },
  {
   "cell_type": "code",
   "execution_count": 66,
   "id": "c08095f0-2073-438a-844c-6f867e1743bd",
   "metadata": {},
   "outputs": [
    {
     "data": {
      "text/plain": [
       "Index(['center_id', 'meal_id', 'checkout_price', 'base_price', 'num_orders',\n",
       "       'city_code', 'region_code', 'center_type', 'op_area', 'category',\n",
       "       'cuisine', 'log_target', 'price_diff', 'price_cat', 'marketing',\n",
       "       'radii', 'Year', 'sin_week', 'cos_week'],\n",
       "      dtype='object')"
      ]
     },
     "execution_count": 66,
     "metadata": {},
     "output_type": "execute_result"
    }
   ],
   "source": [
    "combined.columns"
   ]
  },
  {
   "cell_type": "markdown",
   "id": "eaf1182c-4151-4d7b-83e4-ca2398c825fa",
   "metadata": {},
   "source": [
    "### Feature Engineering \n",
    "* Centre Id Wise num_orders\n",
    "* meal_id  Wise num_orders\n",
    "* city_code  Wise num_orders\n",
    "* region_code  Wise num_orders\n",
    "* Centre Type  Wise num_orders\n",
    "* Category  Wise num_orders"
   ]
  },
  {
   "cell_type": "code",
   "execution_count": 67,
   "id": "be08250d-d0f1-42c9-96d4-6fbae80209e3",
   "metadata": {},
   "outputs": [],
   "source": [
    "# centre wise\n",
    "combined['magic1']=combined.groupby('center_id')['num_orders'].transform('min')\n",
    "combined['magic2']=combined.groupby('center_id')['num_orders'].transform('mean')\n",
    "combined['magic3']=combined.groupby('center_id')['num_orders'].transform('median')\n",
    "combined['magic4']=combined.groupby('center_id')['num_orders'].transform('std')\n",
    "combined['magic5']=combined.groupby('center_id')['num_orders'].transform('max')"
   ]
  },
  {
   "cell_type": "code",
   "execution_count": 68,
   "id": "31e59b4d-991c-4fec-8a30-4c818d93f92d",
   "metadata": {},
   "outputs": [],
   "source": [
    "combined['magic6']=combined.groupby('meal_id')['num_orders'].transform('min')\n",
    "combined['magic7']=combined.groupby('meal_id')['num_orders'].transform('mean')\n",
    "combined['magic8']=combined.groupby('meal_id')['num_orders'].transform('median')\n",
    "combined['magic9']=combined.groupby('meal_id')['num_orders'].transform('std')\n",
    "combined['magic10']=combined.groupby('meal_id')['num_orders'].transform('max')"
   ]
  },
  {
   "cell_type": "code",
   "execution_count": 69,
   "id": "f43c5966-7ae5-417e-ae4b-334af3f960c5",
   "metadata": {},
   "outputs": [],
   "source": [
    "combined['magic11']=combined.groupby('city_code')['num_orders'].transform('min')\n",
    "combined['magic12']=combined.groupby('city_code')['num_orders'].transform('mean')\n",
    "combined['magic13']=combined.groupby('city_code')['num_orders'].transform('median')\n",
    "combined['magic14']=combined.groupby('city_code')['num_orders'].transform('std')\n",
    "combined['magic15']=combined.groupby('city_code')['num_orders'].transform('max')"
   ]
  },
  {
   "cell_type": "code",
   "execution_count": 70,
   "id": "7944e600-1b83-41f4-a262-5a87cf2edb1b",
   "metadata": {},
   "outputs": [],
   "source": [
    "combined['magic16']=combined.groupby('region_code')['num_orders'].transform('min')\n",
    "combined['magic17']=combined.groupby('region_code')['num_orders'].transform('mean')\n",
    "combined['magic18']=combined.groupby('region_code')['num_orders'].transform('median')\n",
    "combined['magic19']=combined.groupby('region_code')['num_orders'].transform('std')\n",
    "combined['magic20']=combined.groupby('region_code')['num_orders'].transform('max')"
   ]
  },
  {
   "cell_type": "code",
   "execution_count": 71,
   "id": "3b1e0995-bce0-41b0-a487-6c07599f2bd7",
   "metadata": {},
   "outputs": [],
   "source": [
    "combined['magic21']=combined.groupby('category')['num_orders'].transform('min')\n",
    "combined['magic22']=combined.groupby('category')['num_orders'].transform('mean')\n",
    "combined['magic23']=combined.groupby('category')['num_orders'].transform('median')\n",
    "combined['magic24']=combined.groupby('category')['num_orders'].transform('std')\n",
    "combined['magic25']=combined.groupby('category')['num_orders'].transform('max')"
   ]
  },
  {
   "cell_type": "code",
   "execution_count": 72,
   "id": "0dea03bc-8487-4c02-91b6-c844536fb5c4",
   "metadata": {},
   "outputs": [
    {
     "data": {
      "text/html": [
       "<div>\n",
       "<style scoped>\n",
       "    .dataframe tbody tr th:only-of-type {\n",
       "        vertical-align: middle;\n",
       "    }\n",
       "\n",
       "    .dataframe tbody tr th {\n",
       "        vertical-align: top;\n",
       "    }\n",
       "\n",
       "    .dataframe thead th {\n",
       "        text-align: right;\n",
       "    }\n",
       "</style>\n",
       "<table border=\"1\" class=\"dataframe\">\n",
       "  <thead>\n",
       "    <tr style=\"text-align: right;\">\n",
       "      <th></th>\n",
       "      <th>center_id</th>\n",
       "      <th>meal_id</th>\n",
       "      <th>checkout_price</th>\n",
       "      <th>base_price</th>\n",
       "      <th>num_orders</th>\n",
       "      <th>city_code</th>\n",
       "      <th>region_code</th>\n",
       "      <th>center_type</th>\n",
       "      <th>op_area</th>\n",
       "      <th>category</th>\n",
       "      <th>...</th>\n",
       "      <th>magic16</th>\n",
       "      <th>magic17</th>\n",
       "      <th>magic18</th>\n",
       "      <th>magic19</th>\n",
       "      <th>magic20</th>\n",
       "      <th>magic21</th>\n",
       "      <th>magic22</th>\n",
       "      <th>magic23</th>\n",
       "      <th>magic24</th>\n",
       "      <th>magic25</th>\n",
       "    </tr>\n",
       "  </thead>\n",
       "  <tbody>\n",
       "    <tr>\n",
       "      <th>0</th>\n",
       "      <td>55</td>\n",
       "      <td>1885</td>\n",
       "      <td>136.83</td>\n",
       "      <td>152.29</td>\n",
       "      <td>177.0</td>\n",
       "      <td>647</td>\n",
       "      <td>56</td>\n",
       "      <td>TYPE_C</td>\n",
       "      <td>2.0</td>\n",
       "      <td>Beverages</td>\n",
       "      <td>...</td>\n",
       "      <td>13.0</td>\n",
       "      <td>316.481849</td>\n",
       "      <td>161.0</td>\n",
       "      <td>477.08328</td>\n",
       "      <td>24299.0</td>\n",
       "      <td>13.0</td>\n",
       "      <td>316.526116</td>\n",
       "      <td>189.0</td>\n",
       "      <td>375.280914</td>\n",
       "      <td>9303.0</td>\n",
       "    </tr>\n",
       "    <tr>\n",
       "      <th>1</th>\n",
       "      <td>55</td>\n",
       "      <td>1993</td>\n",
       "      <td>136.83</td>\n",
       "      <td>135.83</td>\n",
       "      <td>270.0</td>\n",
       "      <td>647</td>\n",
       "      <td>56</td>\n",
       "      <td>TYPE_C</td>\n",
       "      <td>2.0</td>\n",
       "      <td>Beverages</td>\n",
       "      <td>...</td>\n",
       "      <td>13.0</td>\n",
       "      <td>316.481849</td>\n",
       "      <td>161.0</td>\n",
       "      <td>477.08328</td>\n",
       "      <td>24299.0</td>\n",
       "      <td>13.0</td>\n",
       "      <td>316.526116</td>\n",
       "      <td>189.0</td>\n",
       "      <td>375.280914</td>\n",
       "      <td>9303.0</td>\n",
       "    </tr>\n",
       "    <tr>\n",
       "      <th>2</th>\n",
       "      <td>55</td>\n",
       "      <td>2539</td>\n",
       "      <td>134.86</td>\n",
       "      <td>135.86</td>\n",
       "      <td>189.0</td>\n",
       "      <td>647</td>\n",
       "      <td>56</td>\n",
       "      <td>TYPE_C</td>\n",
       "      <td>2.0</td>\n",
       "      <td>Beverages</td>\n",
       "      <td>...</td>\n",
       "      <td>13.0</td>\n",
       "      <td>316.481849</td>\n",
       "      <td>161.0</td>\n",
       "      <td>477.08328</td>\n",
       "      <td>24299.0</td>\n",
       "      <td>13.0</td>\n",
       "      <td>316.526116</td>\n",
       "      <td>189.0</td>\n",
       "      <td>375.280914</td>\n",
       "      <td>9303.0</td>\n",
       "    </tr>\n",
       "    <tr>\n",
       "      <th>3</th>\n",
       "      <td>55</td>\n",
       "      <td>2139</td>\n",
       "      <td>339.50</td>\n",
       "      <td>437.53</td>\n",
       "      <td>54.0</td>\n",
       "      <td>647</td>\n",
       "      <td>56</td>\n",
       "      <td>TYPE_C</td>\n",
       "      <td>2.0</td>\n",
       "      <td>Beverages</td>\n",
       "      <td>...</td>\n",
       "      <td>13.0</td>\n",
       "      <td>316.481849</td>\n",
       "      <td>161.0</td>\n",
       "      <td>477.08328</td>\n",
       "      <td>24299.0</td>\n",
       "      <td>13.0</td>\n",
       "      <td>316.526116</td>\n",
       "      <td>189.0</td>\n",
       "      <td>375.280914</td>\n",
       "      <td>9303.0</td>\n",
       "    </tr>\n",
       "    <tr>\n",
       "      <th>4</th>\n",
       "      <td>55</td>\n",
       "      <td>2631</td>\n",
       "      <td>243.50</td>\n",
       "      <td>242.50</td>\n",
       "      <td>40.0</td>\n",
       "      <td>647</td>\n",
       "      <td>56</td>\n",
       "      <td>TYPE_C</td>\n",
       "      <td>2.0</td>\n",
       "      <td>Beverages</td>\n",
       "      <td>...</td>\n",
       "      <td>13.0</td>\n",
       "      <td>316.481849</td>\n",
       "      <td>161.0</td>\n",
       "      <td>477.08328</td>\n",
       "      <td>24299.0</td>\n",
       "      <td>13.0</td>\n",
       "      <td>316.526116</td>\n",
       "      <td>189.0</td>\n",
       "      <td>375.280914</td>\n",
       "      <td>9303.0</td>\n",
       "    </tr>\n",
       "  </tbody>\n",
       "</table>\n",
       "<p>5 rows × 44 columns</p>\n",
       "</div>"
      ],
      "text/plain": [
       "   center_id  meal_id  checkout_price  base_price  num_orders  city_code  \\\n",
       "0         55     1885          136.83      152.29       177.0        647   \n",
       "1         55     1993          136.83      135.83       270.0        647   \n",
       "2         55     2539          134.86      135.86       189.0        647   \n",
       "3         55     2139          339.50      437.53        54.0        647   \n",
       "4         55     2631          243.50      242.50        40.0        647   \n",
       "\n",
       "   region_code center_type  op_area   category  ... magic16     magic17  \\\n",
       "0           56      TYPE_C      2.0  Beverages  ...    13.0  316.481849   \n",
       "1           56      TYPE_C      2.0  Beverages  ...    13.0  316.481849   \n",
       "2           56      TYPE_C      2.0  Beverages  ...    13.0  316.481849   \n",
       "3           56      TYPE_C      2.0  Beverages  ...    13.0  316.481849   \n",
       "4           56      TYPE_C      2.0  Beverages  ...    13.0  316.481849   \n",
       "\n",
       "   magic18    magic19  magic20  magic21     magic22  magic23     magic24  \\\n",
       "0    161.0  477.08328  24299.0     13.0  316.526116    189.0  375.280914   \n",
       "1    161.0  477.08328  24299.0     13.0  316.526116    189.0  375.280914   \n",
       "2    161.0  477.08328  24299.0     13.0  316.526116    189.0  375.280914   \n",
       "3    161.0  477.08328  24299.0     13.0  316.526116    189.0  375.280914   \n",
       "4    161.0  477.08328  24299.0     13.0  316.526116    189.0  375.280914   \n",
       "\n",
       "   magic25  \n",
       "0   9303.0  \n",
       "1   9303.0  \n",
       "2   9303.0  \n",
       "3   9303.0  \n",
       "4   9303.0  \n",
       "\n",
       "[5 rows x 44 columns]"
      ]
     },
     "execution_count": 72,
     "metadata": {},
     "output_type": "execute_result"
    }
   ],
   "source": [
    "combined.head()"
   ]
  },
  {
   "cell_type": "code",
   "execution_count": 73,
   "id": "3cefb53b-c765-4c75-8fa3-f5ac4e861697",
   "metadata": {},
   "outputs": [
    {
     "data": {
      "text/plain": [
       "center_id             0\n",
       "meal_id               0\n",
       "checkout_price        0\n",
       "base_price            0\n",
       "num_orders        32573\n",
       "city_code             0\n",
       "region_code           0\n",
       "center_type           0\n",
       "op_area               0\n",
       "category              0\n",
       "cuisine               0\n",
       "log_target        32573\n",
       "price_diff            0\n",
       "price_cat             0\n",
       "marketing             0\n",
       "radii                 0\n",
       "Year                  0\n",
       "sin_week              0\n",
       "cos_week              0\n",
       "magic1                0\n",
       "magic2                0\n",
       "magic3                0\n",
       "magic4                0\n",
       "magic5                0\n",
       "magic6                0\n",
       "magic7                0\n",
       "magic8                0\n",
       "magic9                0\n",
       "magic10               0\n",
       "magic11               0\n",
       "magic12               0\n",
       "magic13               0\n",
       "magic14               0\n",
       "magic15               0\n",
       "magic16               0\n",
       "magic17               0\n",
       "magic18               0\n",
       "magic19               0\n",
       "magic20               0\n",
       "magic21               0\n",
       "magic22               0\n",
       "magic23               0\n",
       "magic24               0\n",
       "magic25               0\n",
       "dtype: int64"
      ]
     },
     "execution_count": 73,
     "metadata": {},
     "output_type": "execute_result"
    }
   ],
   "source": [
    "combined.isnull().sum()"
   ]
  },
  {
   "cell_type": "markdown",
   "id": "9864fa5e-233e-443b-a5cc-85e7ce0875d1",
   "metadata": {},
   "source": [
    "* Category Wise Check out price \n",
    "* centreid Wise Check out price \n",
    "* meal_id Wise Check out price \n",
    "* Citycode Wise Check out price \n",
    "* regioncode Wise Check out price "
   ]
  },
  {
   "cell_type": "code",
   "execution_count": 74,
   "id": "20df8570-e133-4a3b-b1b3-4f5b838b0d4d",
   "metadata": {},
   "outputs": [],
   "source": [
    "# Category Wise Check out price \n",
    "combined['magic26']=combined.groupby('category')['checkout_price'].transform('min')\n",
    "combined['magic27']=combined.groupby('category')['checkout_price'].transform('mean')\n",
    "combined['magic28']=combined.groupby('category')['checkout_price'].transform('median')\n",
    "combined['magic29']=combined.groupby('category')['checkout_price'].transform('std')\n",
    "combined['magic30']=combined.groupby('category')['checkout_price'].transform('max')"
   ]
  },
  {
   "cell_type": "code",
   "execution_count": 75,
   "id": "15c0bc97-5ea6-4134-b620-23a7bf94fb5b",
   "metadata": {},
   "outputs": [],
   "source": [
    "#centreid Wise Check out price\n",
    "combined['magic31']=combined.groupby('center_id')['checkout_price'].transform('min')\n",
    "combined['magic32']=combined.groupby('center_id')['checkout_price'].transform('mean')\n",
    "combined['magic33']=combined.groupby('center_id')['checkout_price'].transform('median')\n",
    "combined['magic34']=combined.groupby('center_id')['checkout_price'].transform('std')\n",
    "combined['magic35']=combined.groupby('center_id')['checkout_price'].transform('max')"
   ]
  },
  {
   "cell_type": "code",
   "execution_count": 76,
   "id": "1330e78c-6418-4637-a0f9-a52b27860a35",
   "metadata": {},
   "outputs": [],
   "source": [
    "# meal_id Wise Check out price\n",
    "combined['magic36']=combined.groupby('meal_id')['checkout_price'].transform('min')\n",
    "combined['magic37']=combined.groupby('meal_id')['checkout_price'].transform('mean')\n",
    "combined['magic38']=combined.groupby('meal_id')['checkout_price'].transform('median')\n",
    "combined['magic39']=combined.groupby('meal_id')['checkout_price'].transform('std')\n",
    "combined['magic40']=combined.groupby('meal_id')['checkout_price'].transform('max')"
   ]
  },
  {
   "cell_type": "code",
   "execution_count": 77,
   "id": "c8d2079e-309f-4d31-a445-bfcabce8ede3",
   "metadata": {},
   "outputs": [],
   "source": [
    "#regionCode Wise Check out price\n",
    "combined['magic41']=combined.groupby('region_code')['checkout_price'].transform('min')\n",
    "combined['magic42']=combined.groupby('region_code')['checkout_price'].transform('mean')\n",
    "combined['magic43']=combined.groupby('region_code')['checkout_price'].transform('median')\n",
    "combined['magic44']=combined.groupby('region_code')['checkout_price'].transform('std')\n",
    "combined['magic45']=combined.groupby('region_code')['checkout_price'].transform('max')"
   ]
  },
  {
   "cell_type": "code",
   "execution_count": 78,
   "id": "d3697d64-3bbe-4b3a-aa71-68564ba16612",
   "metadata": {},
   "outputs": [],
   "source": [
    "#CityCode Wise Check out price\n",
    "combined['magic46']=combined.groupby('city_code')['checkout_price'].transform('min')\n",
    "combined['magic47']=combined.groupby('city_code')['checkout_price'].transform('mean')\n",
    "combined['magic48']=combined.groupby('city_code')['checkout_price'].transform('median')\n",
    "combined['magic49']=combined.groupby('city_code')['checkout_price'].transform('std')\n",
    "combined['magic50']=combined.groupby('city_code')['checkout_price'].transform('max')"
   ]
  },
  {
   "cell_type": "code",
   "execution_count": 79,
   "id": "776eaf7b-8dae-4681-9579-bad28fc527dc",
   "metadata": {},
   "outputs": [],
   "source": [
    "import scipy.stats as stats\n",
    "from scipy.stats import ttest_ind"
   ]
  },
  {
   "cell_type": "code",
   "execution_count": 80,
   "id": "115b4cf4-a845-4019-8b37-bf7632426cb8",
   "metadata": {},
   "outputs": [
    {
     "data": {
      "text/plain": [
       "(489121, 69)"
      ]
     },
     "execution_count": 80,
     "metadata": {},
     "output_type": "execute_result"
    }
   ],
   "source": [
    "combined.shape"
   ]
  },
  {
   "cell_type": "code",
   "execution_count": 81,
   "id": "bbf3297f-3e14-4ab3-b507-16800ef81975",
   "metadata": {},
   "outputs": [],
   "source": [
    "# Split the Data into the Train and Test "
   ]
  },
  {
   "cell_type": "code",
   "execution_count": 82,
   "id": "5e597bd0-76c2-4395-bc95-a5a07035ae1c",
   "metadata": {},
   "outputs": [
    {
     "data": {
      "text/plain": [
       "((456548, 9), (32573, 8), (456548, 69), (32573, 69))"
      ]
     },
     "execution_count": 82,
     "metadata": {},
     "output_type": "execute_result"
    }
   ],
   "source": [
    "newtrain = combined.loc[0:train.shape[0]-1,:]\n",
    "newtest = combined.loc[train.shape[0]:,:]\n",
    "train.shape,test.shape,newtrain.shape,newtest.shape"
   ]
  },
  {
   "cell_type": "code",
   "execution_count": 83,
   "id": "8285603e-dda2-4452-83c1-a83c89c91e6d",
   "metadata": {},
   "outputs": [],
   "source": [
    "newtest.drop('num_orders',axis=1,inplace=True)"
   ]
  },
  {
   "cell_type": "code",
   "execution_count": 84,
   "id": "f3bb3515-51e3-4f5d-90b1-94812260debb",
   "metadata": {},
   "outputs": [
    {
     "data": {
      "text/plain": [
       "((456548, 9), (32573, 8), (456548, 69), (32573, 68))"
      ]
     },
     "execution_count": 84,
     "metadata": {},
     "output_type": "execute_result"
    }
   ],
   "source": [
    "train.shape,test.shape,newtrain.shape,newtest.shape"
   ]
  },
  {
   "cell_type": "code",
   "execution_count": 85,
   "id": "69923a45-98cd-41ba-9ef7-b617b9b7c8eb",
   "metadata": {},
   "outputs": [],
   "source": [
    "# Statistical Analysis "
   ]
  },
  {
   "cell_type": "code",
   "execution_count": 86,
   "id": "c12b704c-2a09-4d34-a5e6-7bf14d0741f2",
   "metadata": {},
   "outputs": [],
   "source": [
    "import scipy.stats as stats\n",
    "from scipy.stats import ttest_ind"
   ]
  },
  {
   "cell_type": "code",
   "execution_count": 87,
   "id": "4329d11c-cd98-47b7-b966-0ed6a319cbd3",
   "metadata": {},
   "outputs": [],
   "source": [
    "pd.set_option('display.max_columns',100)"
   ]
  },
  {
   "cell_type": "code",
   "execution_count": 88,
   "id": "551acc5a-c4dd-487b-b11a-0019f1886e85",
   "metadata": {},
   "outputs": [
    {
     "data": {
      "text/plain": [
       "Index(['center_id', 'meal_id', 'checkout_price', 'base_price', 'num_orders',\n",
       "       'city_code', 'region_code', 'op_area', 'log_target', 'price_diff',\n",
       "       'marketing', 'radii', 'sin_week', 'cos_week', 'magic1', 'magic2',\n",
       "       'magic3', 'magic4', 'magic5', 'magic6', 'magic7', 'magic8', 'magic9',\n",
       "       'magic10', 'magic11', 'magic12', 'magic13', 'magic14', 'magic15',\n",
       "       'magic16', 'magic17', 'magic18', 'magic19', 'magic20', 'magic21',\n",
       "       'magic22', 'magic23', 'magic24', 'magic25', 'magic26', 'magic27',\n",
       "       'magic28', 'magic29', 'magic30', 'magic31', 'magic32', 'magic33',\n",
       "       'magic34', 'magic35', 'magic36', 'magic37', 'magic38', 'magic39',\n",
       "       'magic40', 'magic41', 'magic42', 'magic43', 'magic44', 'magic45',\n",
       "       'magic46', 'magic47', 'magic48', 'magic49', 'magic50'],\n",
       "      dtype='object')"
      ]
     },
     "execution_count": 88,
     "metadata": {},
     "output_type": "execute_result"
    }
   ],
   "source": [
    "newtrain.select_dtypes(include=np.number).columns"
   ]
  },
  {
   "cell_type": "code",
   "execution_count": 89,
   "id": "34e9eca4-e98d-49fc-a73c-4d3a204e43e9",
   "metadata": {},
   "outputs": [],
   "source": [
    "nums = ['magic1', 'magic2',\n",
    "       'magic3', 'magic4', 'magic5', 'magic6', 'magic7', 'magic8', 'magic9',\n",
    "       'magic10', 'magic11', 'magic12', 'magic13', 'magic14', 'magic15',\n",
    "       'magic16', 'magic17', 'magic18', 'magic19', 'magic20', 'magic21',\n",
    "       'magic22', 'magic23', 'magic24', 'magic25', 'magic26', 'magic27',\n",
    "       'magic28', 'magic29', 'magic30', 'magic31', 'magic32', 'magic33',\n",
    "       'magic34', 'magic35', 'magic36', 'magic37', 'magic38', 'magic39',\n",
    "       'magic40', 'magic41', 'magic42', 'magic43', 'magic44', 'magic45',\n",
    "       'magic46', 'magic47', 'magic48', 'magic49', 'magic50']"
   ]
  },
  {
   "cell_type": "code",
   "execution_count": 90,
   "id": "59bf0bb0-c4fa-462c-b449-20ea5e5830e1",
   "metadata": {},
   "outputs": [],
   "source": [
    "# H0: Predictor and target are Independent \n",
    "# Ha: Ho is False"
   ]
  },
  {
   "cell_type": "code",
   "execution_count": 91,
   "id": "b2f682c1-5004-45ce-b61f-15ab9c2f918d",
   "metadata": {},
   "outputs": [],
   "source": [
    "# pvalue=[]\n",
    "# for i in nums:\n",
    "#     teststats,pval = stats.ttest_ind(newtrain.loc[:,i],\n",
    "#                                      newtrain.num_orders)\n",
    "#     pvalue.append({i:pval})"
   ]
  },
  {
   "cell_type": "code",
   "execution_count": 92,
   "id": "a112e1f2-daeb-4d56-9890-67f6b988fab8",
   "metadata": {},
   "outputs": [],
   "source": [
    "pvalue=[]\n",
    "for i in nums:\n",
    "    teststats,pval = stats.ttest_ind(newtrain.loc[:,i],\n",
    "                                     newtrain.num_orders)\n",
    "    pvalue.append(pval)"
   ]
  },
  {
   "cell_type": "code",
   "execution_count": 93,
   "id": "a3f2bebf-9a62-4258-a079-ad2bd6beec95",
   "metadata": {},
   "outputs": [
    {
     "data": {
      "text/plain": [
       "[0.0,\n",
       " 0.999999999999925,\n",
       " 0.0,\n",
       " 0.0,\n",
       " 0.0,\n",
       " 0.0,\n",
       " 1.0,\n",
       " 0.0,\n",
       " 9.372859156502044e-83,\n",
       " 0.0,\n",
       " 0.0,\n",
       " 1.0,\n",
       " 0.0,\n",
       " 0.0,\n",
       " 0.0,\n",
       " 0.0,\n",
       " 0.9999999999999233,\n",
       " 0.0,\n",
       " 0.0,\n",
       " 0.0,\n",
       " 0.0,\n",
       " 0.9999999999999288,\n",
       " 0.0,\n",
       " 0.0,\n",
       " 0.0,\n",
       " 0.0,\n",
       " 0.0,\n",
       " 0.0,\n",
       " 0.0,\n",
       " 0.0,\n",
       " 0.0,\n",
       " 0.0,\n",
       " 0.0,\n",
       " 0.0,\n",
       " 0.0,\n",
       " 0.0,\n",
       " 0.0,\n",
       " 0.0,\n",
       " 0.0,\n",
       " 0.0,\n",
       " 0.0,\n",
       " 0.0,\n",
       " 0.0,\n",
       " 0.0,\n",
       " 0.0,\n",
       " 0.0,\n",
       " 0.0,\n",
       " 0.0,\n",
       " 0.0,\n",
       " 0.0]"
      ]
     },
     "execution_count": 93,
     "metadata": {},
     "output_type": "execute_result"
    }
   ],
   "source": [
    "pvalue"
   ]
  },
  {
   "cell_type": "code",
   "execution_count": 94,
   "id": "a8425153-2a8a-4f09-ab1f-b2389c3c846e",
   "metadata": {},
   "outputs": [],
   "source": [
    "pvals = pd.DataFrame(pvalue,index=nums,columns=['PValue'])\n",
    "significant = pvals.loc[pvals.PValue<0.05].index"
   ]
  },
  {
   "cell_type": "code",
   "execution_count": 95,
   "id": "a6a423a7-ed43-4c22-899c-d74d1a1b22b1",
   "metadata": {},
   "outputs": [
    {
     "data": {
      "text/plain": [
       "Index(['magic1', 'magic3', 'magic4', 'magic5', 'magic6', 'magic8', 'magic9',\n",
       "       'magic10', 'magic11', 'magic13', 'magic14', 'magic15', 'magic16',\n",
       "       'magic18', 'magic19', 'magic20', 'magic21', 'magic23', 'magic24',\n",
       "       'magic25', 'magic26', 'magic27', 'magic28', 'magic29', 'magic30',\n",
       "       'magic31', 'magic32', 'magic33', 'magic34', 'magic35', 'magic36',\n",
       "       'magic37', 'magic38', 'magic39', 'magic40', 'magic41', 'magic42',\n",
       "       'magic43', 'magic44', 'magic45', 'magic46', 'magic47', 'magic48',\n",
       "       'magic49', 'magic50'],\n",
       "      dtype='object')"
      ]
     },
     "execution_count": 95,
     "metadata": {},
     "output_type": "execute_result"
    }
   ],
   "source": [
    "significant"
   ]
  },
  {
   "cell_type": "code",
   "execution_count": 96,
   "id": "76bdcab2-ba38-4064-8acb-c3fe6c278d59",
   "metadata": {},
   "outputs": [],
   "source": [
    "# Price_Diff vs target \n",
    "# H0: Price Diff has no relation with Num_Orders\n",
    "# Ha: No of Orders depends on price Diff\n",
    "\n",
    "teststats,pval = stats.ttest_ind(newtrain.loc[:,'price_diff'],\n",
    "                                newtrain.num_orders)"
   ]
  },
  {
   "cell_type": "code",
   "execution_count": 97,
   "id": "232b1eec-6bb2-4332-a223-c6a759b900f9",
   "metadata": {},
   "outputs": [
    {
     "data": {
      "text/plain": [
       "(-406.4703738608052, 0.0)"
      ]
     },
     "execution_count": 97,
     "metadata": {},
     "output_type": "execute_result"
    }
   ],
   "source": [
    "teststats,pval"
   ]
  },
  {
   "cell_type": "code",
   "execution_count": 98,
   "id": "5446d32d-ffc4-49d3-b772-b0e51852f4fa",
   "metadata": {},
   "outputs": [],
   "source": [
    "pvals = pd.DataFrame(pvalue,index=nums,columns=['PValue'])\n",
    "insignificant = pvals.loc[pvals.PValue>0.05].index"
   ]
  },
  {
   "cell_type": "code",
   "execution_count": 99,
   "id": "ddafc035-c75d-4d4a-9340-649f1e236360",
   "metadata": {},
   "outputs": [
    {
     "data": {
      "text/plain": [
       "Index(['magic2', 'magic7', 'magic12', 'magic17', 'magic22'], dtype='object')"
      ]
     },
     "execution_count": 99,
     "metadata": {},
     "output_type": "execute_result"
    }
   ],
   "source": [
    "insignificant"
   ]
  },
  {
   "cell_type": "code",
   "execution_count": 100,
   "id": "1df97020-0354-4fab-8ffb-6feb4639a57b",
   "metadata": {},
   "outputs": [
    {
     "data": {
      "text/plain": [
       "(-439.9423098622263, 0.0)"
      ]
     },
     "execution_count": 100,
     "metadata": {},
     "output_type": "execute_result"
    }
   ],
   "source": [
    "# Radii and Op Area \n",
    "# Ho: Op Area has no relation with the Num_Orders\n",
    "# Ha: No of Orders depend on OpArea\n",
    "\n",
    "teststats,pval = stats.ttest_ind(newtrain.loc[:,'op_area'],\n",
    "                                newtrain.num_orders)\n",
    "teststats,pval"
   ]
  },
  {
   "cell_type": "code",
   "execution_count": 101,
   "id": "edceb094-112c-4588-8830-ff984eea3163",
   "metadata": {},
   "outputs": [
    {
     "data": {
      "text/plain": [
       "(-444.98491992280447, 0.0)"
      ]
     },
     "execution_count": 101,
     "metadata": {},
     "output_type": "execute_result"
    }
   ],
   "source": [
    "# Ho: Radii has no relation with the Num_Orders\n",
    "# Ha: No of Orders depend on Radii\n",
    "teststats,pval = stats.ttest_ind(newtrain.loc[:,'radii'],\n",
    "                                newtrain.num_orders)\n",
    "teststats,pval"
   ]
  },
  {
   "cell_type": "code",
   "execution_count": 102,
   "id": "3c95a981-7091-46b9-8256-b75a7e9b9411",
   "metadata": {},
   "outputs": [],
   "source": [
    "from scipy.stats import *"
   ]
  },
  {
   "cell_type": "code",
   "execution_count": 103,
   "id": "0bc18902-ac8a-4522-ad89-0c30b83df593",
   "metadata": {},
   "outputs": [],
   "source": [
    "def return_splits(ddf, feature_name, target_name):\n",
    "    return [ddf[ddf[feature_name] == i][target_name] for i in ddf[feature_name].unique()]\n",
    "\n",
    "def give_stats_analysis(df, target_column_name):\n",
    "    ddf = df.copy()\n",
    "    ddf = ddf.dropna()\n",
    "\n",
    "    features = []\n",
    "    tests = []\n",
    "    stats = []\n",
    "    pvals = []\n",
    "    count = 0\n",
    "\n",
    "    target = ddf[target_column_name]\n",
    "    for i in ddf.columns:\n",
    "        features.append(i)\n",
    "        feature = ddf[i]\n",
    "        \n",
    "        if (feature.dtype == \"O\" and (target.dtype == \"float\" or target.dtype == \"int\")) or (target.dtype == \"O\" and (feature.dtype == \"float\" or feature.dtype == \"int\")):\n",
    "            stat, pval, *_ = kruskal(*return_splits(ddf, feature.name, target.name))\n",
    "            tests.append(\"Kruskal-Wallis\")\n",
    "            stats.append(stat)\n",
    "            pvals.append(pval)\n",
    "            \n",
    "        \n",
    "        elif (feature.dtype == \"float\" or feature.dtype == \"int\") and (target.dtype == \"float\" or target.dtype == \"int\"):\n",
    "            stat, pval, *_ = ttest_ind(feature, target)\n",
    "            tests.append(\"TTest\")\n",
    "            stats.append(stat)\n",
    "            pvals.append(pval)\n",
    "\n",
    "        elif feature.dtype == \"O\" and target.dtype == \"O\":\n",
    "            stat, pval, *_ = chi2_contingency(pd.crosstab(feature, target))\n",
    "            tests.append(\"Chi-Square\")\n",
    "            stats.append(stat)\n",
    "            pvals.append(pval)\n",
    "        \n",
    "        else:\n",
    "            tests.append(np.nan)\n",
    "            stats.append(np.nan)\n",
    "            pvals.append(np.nan)\n",
    "\n",
    "        print(f\"{feature.name} ■■■ {target_column_name}\".ljust(50, \"-\")+\"✅\")\n",
    "    \n",
    "    return pd.DataFrame({\n",
    "        \"Feature\" : features,\n",
    "        \"Target\" : [target_column_name]*ddf.shape[1],\n",
    "        \"Statistic Test\" : tests,\n",
    "        \"Test Statistic\" : stats,\n",
    "        \"P-Value\" : pvals\n",
    "    }).sort_values(by=\"P-Value\")"
   ]
  },
  {
   "cell_type": "code",
   "execution_count": 104,
   "id": "17784527-77a4-424f-a6e7-f6d5aa469d37",
   "metadata": {},
   "outputs": [
    {
     "name": "stdout",
     "output_type": "stream",
     "text": [
      "center_id ■■■ num_orders--------------------------✅\n",
      "meal_id ■■■ num_orders----------------------------✅\n",
      "checkout_price ■■■ num_orders---------------------✅\n",
      "base_price ■■■ num_orders-------------------------✅\n",
      "num_orders ■■■ num_orders-------------------------✅\n",
      "city_code ■■■ num_orders--------------------------✅\n",
      "region_code ■■■ num_orders------------------------✅\n",
      "center_type ■■■ num_orders------------------------✅\n",
      "op_area ■■■ num_orders----------------------------✅\n",
      "category ■■■ num_orders---------------------------✅\n",
      "cuisine ■■■ num_orders----------------------------✅\n",
      "log_target ■■■ num_orders-------------------------✅\n",
      "price_diff ■■■ num_orders-------------------------✅\n",
      "price_cat ■■■ num_orders--------------------------✅\n",
      "marketing ■■■ num_orders--------------------------✅\n",
      "radii ■■■ num_orders------------------------------✅\n",
      "Year ■■■ num_orders-------------------------------✅\n",
      "sin_week ■■■ num_orders---------------------------✅\n",
      "cos_week ■■■ num_orders---------------------------✅\n",
      "magic1 ■■■ num_orders-----------------------------✅\n",
      "magic2 ■■■ num_orders-----------------------------✅\n",
      "magic3 ■■■ num_orders-----------------------------✅\n",
      "magic4 ■■■ num_orders-----------------------------✅\n",
      "magic5 ■■■ num_orders-----------------------------✅\n",
      "magic6 ■■■ num_orders-----------------------------✅\n",
      "magic7 ■■■ num_orders-----------------------------✅\n",
      "magic8 ■■■ num_orders-----------------------------✅\n",
      "magic9 ■■■ num_orders-----------------------------✅\n",
      "magic10 ■■■ num_orders----------------------------✅\n",
      "magic11 ■■■ num_orders----------------------------✅\n",
      "magic12 ■■■ num_orders----------------------------✅\n",
      "magic13 ■■■ num_orders----------------------------✅\n",
      "magic14 ■■■ num_orders----------------------------✅\n",
      "magic15 ■■■ num_orders----------------------------✅\n",
      "magic16 ■■■ num_orders----------------------------✅\n",
      "magic17 ■■■ num_orders----------------------------✅\n",
      "magic18 ■■■ num_orders----------------------------✅\n",
      "magic19 ■■■ num_orders----------------------------✅\n",
      "magic20 ■■■ num_orders----------------------------✅\n",
      "magic21 ■■■ num_orders----------------------------✅\n",
      "magic22 ■■■ num_orders----------------------------✅\n",
      "magic23 ■■■ num_orders----------------------------✅\n",
      "magic24 ■■■ num_orders----------------------------✅\n",
      "magic25 ■■■ num_orders----------------------------✅\n",
      "magic26 ■■■ num_orders----------------------------✅\n",
      "magic27 ■■■ num_orders----------------------------✅\n",
      "magic28 ■■■ num_orders----------------------------✅\n",
      "magic29 ■■■ num_orders----------------------------✅\n",
      "magic30 ■■■ num_orders----------------------------✅\n",
      "magic31 ■■■ num_orders----------------------------✅\n",
      "magic32 ■■■ num_orders----------------------------✅\n",
      "magic33 ■■■ num_orders----------------------------✅\n",
      "magic34 ■■■ num_orders----------------------------✅\n",
      "magic35 ■■■ num_orders----------------------------✅\n",
      "magic36 ■■■ num_orders----------------------------✅\n",
      "magic37 ■■■ num_orders----------------------------✅\n",
      "magic38 ■■■ num_orders----------------------------✅\n",
      "magic39 ■■■ num_orders----------------------------✅\n",
      "magic40 ■■■ num_orders----------------------------✅\n",
      "magic41 ■■■ num_orders----------------------------✅\n",
      "magic42 ■■■ num_orders----------------------------✅\n",
      "magic43 ■■■ num_orders----------------------------✅\n",
      "magic44 ■■■ num_orders----------------------------✅\n",
      "magic45 ■■■ num_orders----------------------------✅\n",
      "magic46 ■■■ num_orders----------------------------✅\n",
      "magic47 ■■■ num_orders----------------------------✅\n",
      "magic48 ■■■ num_orders----------------------------✅\n",
      "magic49 ■■■ num_orders----------------------------✅\n",
      "magic50 ■■■ num_orders----------------------------✅\n"
     ]
    },
    {
     "data": {
      "text/html": [
       "<div>\n",
       "<style scoped>\n",
       "    .dataframe tbody tr th:only-of-type {\n",
       "        vertical-align: middle;\n",
       "    }\n",
       "\n",
       "    .dataframe tbody tr th {\n",
       "        vertical-align: top;\n",
       "    }\n",
       "\n",
       "    .dataframe thead th {\n",
       "        text-align: right;\n",
       "    }\n",
       "</style>\n",
       "<table border=\"1\" class=\"dataframe\">\n",
       "  <thead>\n",
       "    <tr style=\"text-align: right;\">\n",
       "      <th></th>\n",
       "      <th>Feature</th>\n",
       "      <th>Target</th>\n",
       "      <th>Statistic Test</th>\n",
       "      <th>Test Statistic</th>\n",
       "      <th>P-Value</th>\n",
       "    </tr>\n",
       "  </thead>\n",
       "  <tbody>\n",
       "    <tr>\n",
       "      <th>0</th>\n",
       "      <td>center_id</td>\n",
       "      <td>num_orders</td>\n",
       "      <td>TTest</td>\n",
       "      <td>-3.047433e+02</td>\n",
       "      <td>0.0</td>\n",
       "    </tr>\n",
       "    <tr>\n",
       "      <th>36</th>\n",
       "      <td>magic18</td>\n",
       "      <td>num_orders</td>\n",
       "      <td>TTest</td>\n",
       "      <td>-2.037303e+02</td>\n",
       "      <td>0.0</td>\n",
       "    </tr>\n",
       "    <tr>\n",
       "      <th>37</th>\n",
       "      <td>magic19</td>\n",
       "      <td>num_orders</td>\n",
       "      <td>TTest</td>\n",
       "      <td>1.973606e+02</td>\n",
       "      <td>0.0</td>\n",
       "    </tr>\n",
       "    <tr>\n",
       "      <th>38</th>\n",
       "      <td>magic20</td>\n",
       "      <td>num_orders</td>\n",
       "      <td>TTest</td>\n",
       "      <td>1.577697e+03</td>\n",
       "      <td>0.0</td>\n",
       "    </tr>\n",
       "    <tr>\n",
       "      <th>39</th>\n",
       "      <td>magic21</td>\n",
       "      <td>num_orders</td>\n",
       "      <td>TTest</td>\n",
       "      <td>-4.247272e+02</td>\n",
       "      <td>0.0</td>\n",
       "    </tr>\n",
       "    <tr>\n",
       "      <th>...</th>\n",
       "      <td>...</td>\n",
       "      <td>...</td>\n",
       "      <td>...</td>\n",
       "      <td>...</td>\n",
       "      <td>...</td>\n",
       "    </tr>\n",
       "    <tr>\n",
       "      <th>20</th>\n",
       "      <td>magic2</td>\n",
       "      <td>num_orders</td>\n",
       "      <td>TTest</td>\n",
       "      <td>-9.405180e-14</td>\n",
       "      <td>1.0</td>\n",
       "    </tr>\n",
       "    <tr>\n",
       "      <th>40</th>\n",
       "      <td>magic22</td>\n",
       "      <td>num_orders</td>\n",
       "      <td>TTest</td>\n",
       "      <td>8.920252e-14</td>\n",
       "      <td>1.0</td>\n",
       "    </tr>\n",
       "    <tr>\n",
       "      <th>25</th>\n",
       "      <td>magic7</td>\n",
       "      <td>num_orders</td>\n",
       "      <td>TTest</td>\n",
       "      <td>0.000000e+00</td>\n",
       "      <td>1.0</td>\n",
       "    </tr>\n",
       "    <tr>\n",
       "      <th>4</th>\n",
       "      <td>num_orders</td>\n",
       "      <td>num_orders</td>\n",
       "      <td>TTest</td>\n",
       "      <td>0.000000e+00</td>\n",
       "      <td>1.0</td>\n",
       "    </tr>\n",
       "    <tr>\n",
       "      <th>30</th>\n",
       "      <td>magic12</td>\n",
       "      <td>num_orders</td>\n",
       "      <td>TTest</td>\n",
       "      <td>0.000000e+00</td>\n",
       "      <td>1.0</td>\n",
       "    </tr>\n",
       "  </tbody>\n",
       "</table>\n",
       "<p>69 rows × 5 columns</p>\n",
       "</div>"
      ],
      "text/plain": [
       "       Feature      Target Statistic Test  Test Statistic  P-Value\n",
       "0    center_id  num_orders          TTest   -3.047433e+02      0.0\n",
       "36     magic18  num_orders          TTest   -2.037303e+02      0.0\n",
       "37     magic19  num_orders          TTest    1.973606e+02      0.0\n",
       "38     magic20  num_orders          TTest    1.577697e+03      0.0\n",
       "39     magic21  num_orders          TTest   -4.247272e+02      0.0\n",
       "..         ...         ...            ...             ...      ...\n",
       "20      magic2  num_orders          TTest   -9.405180e-14      1.0\n",
       "40     magic22  num_orders          TTest    8.920252e-14      1.0\n",
       "25      magic7  num_orders          TTest    0.000000e+00      1.0\n",
       "4   num_orders  num_orders          TTest    0.000000e+00      1.0\n",
       "30     magic12  num_orders          TTest    0.000000e+00      1.0\n",
       "\n",
       "[69 rows x 5 columns]"
      ]
     },
     "execution_count": 104,
     "metadata": {},
     "output_type": "execute_result"
    }
   ],
   "source": [
    "give_stats_analysis(newtrain, 'num_orders')"
   ]
  },
  {
   "cell_type": "code",
   "execution_count": 105,
   "id": "c573b69a-eeac-4e50-acfb-d930eba5749a",
   "metadata": {},
   "outputs": [
    {
     "data": {
      "text/plain": [
       "Index(['center_type', 'category', 'cuisine', 'price_cat', 'Year'], dtype='object')"
      ]
     },
     "execution_count": 105,
     "metadata": {},
     "output_type": "execute_result"
    }
   ],
   "source": [
    "# Cat Vs Num \n",
    "newtrain.select_dtypes(exclude = np.number).columns"
   ]
  },
  {
   "cell_type": "code",
   "execution_count": 106,
   "id": "44d4cdfb-55c0-4b98-af1a-c7f2e3590fca",
   "metadata": {},
   "outputs": [
    {
     "name": "stdout",
     "output_type": "stream",
     "text": [
      "                   df        sum_sq       mean_sq             F        PR(>F)\n",
      "center_type       2.0  6.090329e+08  3.045165e+08   2802.233558  0.000000e+00\n",
      "category         13.0  1.343108e+10  1.033160e+09   9507.383881  0.000000e+00\n",
      "cuisine           3.0  4.510531e+09  1.503510e+09  13835.663300  0.000000e+00\n",
      "price_cat         2.0  3.397928e+09  1.698964e+09  15634.275816  0.000000e+00\n",
      "Year              2.0  7.186426e+06  3.593213e+06     33.065609  4.373492e-15\n",
      "Residual     456525.0  4.961021e+10  1.086692e+05           NaN           NaN\n"
     ]
    }
   ],
   "source": [
    "#ANOVA\n",
    "\n",
    "#Ho: predictor and target are independent\n",
    "#Ha: Ho is false\n",
    "\n",
    "import statsmodels.formula.api as sfa\n",
    "from statsmodels.stats.anova import anova_lm\n",
    "\n",
    "model = sfa.ols('num_orders~center_type+category+cuisine+price_cat+Year', data = newtrain).fit()\n",
    "\n",
    "print(anova_lm(model))"
   ]
  },
  {
   "cell_type": "code",
   "execution_count": 107,
   "id": "08e2ce17-8a2e-4238-bde9-3253b9a2b593",
   "metadata": {},
   "outputs": [],
   "source": [
    "# Drop the insignificant features from the Train and Test"
   ]
  },
  {
   "cell_type": "code",
   "execution_count": 108,
   "id": "f7ae8f44-7130-4018-9cb3-cbb21ba2b16d",
   "metadata": {},
   "outputs": [],
   "source": [
    "newtrain.drop(insignificant,axis=1,inplace=True)\n",
    "newtest.drop(insignificant,axis=1,inplace=True)"
   ]
  },
  {
   "cell_type": "code",
   "execution_count": 109,
   "id": "8a97956c-4b66-4256-9984-b44db9c66dee",
   "metadata": {},
   "outputs": [],
   "source": [
    "newtrain.drop(['center_id','meal_id','city_code','region_code','category'],axis=1,inplace=True)\n",
    "newtest.drop(['center_id','meal_id','city_code','region_code','category'],axis=1,inplace=True)"
   ]
  },
  {
   "cell_type": "code",
   "execution_count": 110,
   "id": "008c0edd-afa9-4b5e-8fbb-fbd9d0c4c588",
   "metadata": {},
   "outputs": [
    {
     "data": {
      "text/plain": [
       "Index(['checkout_price', 'base_price', 'num_orders', 'center_type', 'op_area',\n",
       "       'cuisine', 'log_target', 'price_diff', 'price_cat', 'marketing',\n",
       "       'radii', 'Year', 'sin_week', 'cos_week', 'magic1', 'magic3', 'magic4',\n",
       "       'magic5', 'magic6', 'magic8', 'magic9', 'magic10', 'magic11', 'magic13',\n",
       "       'magic14', 'magic15', 'magic16', 'magic18', 'magic19', 'magic20',\n",
       "       'magic21', 'magic23', 'magic24', 'magic25', 'magic26', 'magic27',\n",
       "       'magic28', 'magic29', 'magic30', 'magic31', 'magic32', 'magic33',\n",
       "       'magic34', 'magic35', 'magic36', 'magic37', 'magic38', 'magic39',\n",
       "       'magic40', 'magic41', 'magic42', 'magic43', 'magic44', 'magic45',\n",
       "       'magic46', 'magic47', 'magic48', 'magic49', 'magic50'],\n",
       "      dtype='object')"
      ]
     },
     "execution_count": 110,
     "metadata": {},
     "output_type": "execute_result"
    }
   ],
   "source": [
    "newtrain.columns"
   ]
  },
  {
   "cell_type": "markdown",
   "id": "f2611511-4a48-48a1-95fb-239c19902e30",
   "metadata": {},
   "source": [
    "#Modlling \n",
    "\n",
    "*⁠  ⁠split the data in x and y\n",
    "\n",
    "*  ⁠KFOLD CV\n",
    "\n",
    "*  ⁠prediction\n",
    "\n",
    "*⁠  ⁠submission"
   ]
  },
  {
   "cell_type": "code",
   "execution_count": 111,
   "id": "8c6a1628-6e4d-413c-82f6-d7c44760a1a3",
   "metadata": {},
   "outputs": [],
   "source": [
    "#Split the Data into X and y\n",
    "X = newtrain.drop([\"num_orders\",\"log_target\",\"Year\"],axis=1)\n",
    "y = newtrain[\"num_orders\"]\n",
    "logy = newtrain[\"log_target\"]\n",
    "\n",
    "dummyx = pd.get_dummies(X,drop_first=True,dtype=int)\n",
    "newtest.drop(\"log_target\",axis=1,inplace=True)"
   ]
  },
  {
   "cell_type": "code",
   "execution_count": 112,
   "id": "98ffd9d8-fdac-457c-b146-94cbec702998",
   "metadata": {},
   "outputs": [],
   "source": [
    "newtest.drop('Year',axis=1,inplace=True)\n",
    "dummytest = pd.get_dummies(newtest,drop_first=True)"
   ]
  },
  {
   "cell_type": "code",
   "execution_count": 113,
   "id": "d10fc4b8-4b58-419a-ad1f-ca7e91c72f8a",
   "metadata": {},
   "outputs": [
    {
     "data": {
      "text/plain": [
       "((456548, 60), (32573, 56))"
      ]
     },
     "execution_count": 113,
     "metadata": {},
     "output_type": "execute_result"
    }
   ],
   "source": [
    "dummyx.shape, newtest.shape"
   ]
  },
  {
   "cell_type": "code",
   "execution_count": 114,
   "id": "de4fed03-2989-40c1-847e-9166e3d34d14",
   "metadata": {},
   "outputs": [],
   "source": [
    "# KFold Model \n",
    "from sklearn.model_selection import KFold\n",
    "from sklearn.linear_model import LinearRegression\n",
    "from sklearn.ensemble import RandomForestRegressor, GradientBoostingRegressor\n",
    "\n",
    "from sklearn.metrics import root_mean_squared_log_error,root_mean_squared_error\n",
    "kfold = KFold(n_splits=5,shuffle=True)\n",
    "\n",
    "lr = LinearRegression()\n",
    "rf= RandomForestRegressor()\n",
    "gbm = GradientBoostingRegressor()"
   ]
  },
  {
   "cell_type": "code",
   "execution_count": 115,
   "id": "0bb6de75-397d-4ec3-b150-0c8db0ed1e80",
   "metadata": {},
   "outputs": [],
   "source": [
    "# pred = []\n",
    "# for train_index, test_index, in kfold.split(dummyx,y):\n",
    "#     xtrain = dummyx.iloc[train_index,:]\n",
    "#     xtest = dummyx.iloc[train_index,:]\n",
    "#     ytrain = y.iloc[train_index]\n",
    "#     ytest = y.iloc[test_index]\n",
    "# # Modelling and Predection \n",
    "# pred_lr = lr.fit(xtrain,ytrain).predict(xtest)\n",
    "# #Cost Function\n",
    "# cost = root_mean_squared_error(ytest,pred_lr)\n",
    "# print(cost)"
   ]
  },
  {
   "cell_type": "code",
   "execution_count": 116,
   "id": "553037d1-ce79-46f7-92f3-c57968de955e",
   "metadata": {},
   "outputs": [
    {
     "name": "stdout",
     "output_type": "stream",
     "text": [
      "294.9930285628043\n",
      "294.9770366680312\n",
      "270.989505092584\n",
      "281.9522180882916\n",
      "281.2155561147337\n"
     ]
    }
   ],
   "source": [
    "pred = []\n",
    "for train_index,test_index in kfold.split(dummyx,y):\n",
    "    xtrain  = dummyx.iloc[train_index,:]\n",
    "    xtest   = dummyx.iloc[test_index,:]\n",
    "    ytrain  = y.iloc[train_index]\n",
    "    ytest   = y.iloc[test_index]\n",
    "    #Modeling and Prediction\n",
    "    pred_lr = lr.fit(xtrain,ytrain).predict(xtest)\n",
    "    #Cost Function\n",
    "    cost = root_mean_squared_error(ytest,pred_lr)\n",
    "    print(cost)\n",
    "    #Final Prediciton\n",
    "    pred.append(lr.predict(dummytest))"
   ]
  },
  {
   "cell_type": "code",
   "execution_count": 117,
   "id": "3227de43-4109-4c05-94a2-492538252dcd",
   "metadata": {},
   "outputs": [
    {
     "name": "stdout",
     "output_type": "stream",
     "text": [
      "[array([554.4963459 , 416.46175942, 134.66348022, ..., 323.66093109,\n",
      "       288.1442785 , 304.61015385]), array([558.06424639, 420.89127888, 135.25486975, ..., 329.96114882,\n",
      "       292.95648674, 302.26984875]), array([555.43520436, 416.4463164 , 135.22933135, ..., 328.40435746,\n",
      "       291.60591362, 305.0031835 ]), array([556.30938109, 418.44483196, 133.31075238, ..., 328.15320167,\n",
      "       291.45834472, 305.14457982]), array([556.07756307, 418.43288315, 136.28456621, ..., 325.3164144 ,\n",
      "       289.88830973, 304.17300924])]\n"
     ]
    }
   ],
   "source": [
    "print(pred)"
   ]
  },
  {
   "cell_type": "code",
   "execution_count": 118,
   "id": "8d0caa9f-aa45-4e62-8d58-a6aa80cddef6",
   "metadata": {},
   "outputs": [],
   "source": [
    "#final prediction"
   ]
  },
  {
   "cell_type": "code",
   "execution_count": 119,
   "id": "73242aab-f251-4ae3-ac28-c7d426add315",
   "metadata": {},
   "outputs": [],
   "source": [
    "submission = pd.DataFrame(pred).T.mean(axis=1)"
   ]
  },
  {
   "cell_type": "code",
   "execution_count": 120,
   "id": "c3a2ec3e-d55a-41a6-97ae-60437d79ce1f",
   "metadata": {},
   "outputs": [],
   "source": [
    "# Sample\n",
    "sample = pd.read_csv('/Users/pradeepujwalkumarkammadanam/Desktop/GL_Course/GL_ML/Day_5/sample_submission_hSlSoT6 (1).csv')"
   ]
  },
  {
   "cell_type": "code",
   "execution_count": 121,
   "id": "8f0eafd3-b5b4-4a20-9622-3005f8678154",
   "metadata": {},
   "outputs": [],
   "source": [
    "# Save the Predictions \n",
    "sample['num_orders'] = np.abs(submission)\n",
    "# Export it into csv \n",
    "sample.to_csv('LRModel.csv',index=False)"
   ]
  },
  {
   "cell_type": "code",
   "execution_count": 122,
   "id": "efde78c6-164e-4a79-bc9f-9e8a9df2118c",
   "metadata": {},
   "outputs": [
    {
     "name": "stdout",
     "output_type": "stream",
     "text": [
      "0.6618528035797898\n",
      "0.6602969185566058\n",
      "0.6570313962180274\n",
      "0.6590060956834102\n",
      "0.6610831493588851\n"
     ]
    }
   ],
   "source": [
    "# Target Variable is Logy\n",
    "pred=[]\n",
    "for train_index, test_index in kfold.split(dummyx, y):\n",
    "    xtrain = dummyx.iloc[train_index,:]\n",
    "    xtest = dummyx.iloc[test_index,:]\n",
    "    ytrain = logy.iloc[train_index]\n",
    "    ytest = logy.iloc[test_index]\n",
    "# Model and Prediction\n",
    "    pred_lr = lr.fit(xtrain,ytrain).predict(xtest)\n",
    "    cost = root_mean_squared_error(ytest,pred_lr)\n",
    "    print(cost)\n",
    "#Final Prediction \n",
    "    pred.append(lr.predict(dummytest))"
   ]
  },
  {
   "cell_type": "code",
   "execution_count": 123,
   "id": "185d22c7-afe0-4dc3-811d-b4ff156fb776",
   "metadata": {},
   "outputs": [
    {
     "name": "stdout",
     "output_type": "stream",
     "text": [
      "[array([5.77539973, 5.41908183, 4.54502689, ..., 5.75688756, 5.60868754,\n",
      "       5.37998463]), array([5.77151039, 5.42094708, 4.54325758, ..., 5.76074698, 5.60940469,\n",
      "       5.37498992]), array([5.76832871, 5.41483825, 4.53989512, ..., 5.75948497, 5.60879854,\n",
      "       5.37441458]), array([5.77732995, 5.42134448, 4.54259678, ..., 5.7536701 , 5.60592226,\n",
      "       5.37474116]), array([5.7728738 , 5.42162094, 4.53950501, ..., 5.75400205, 5.60583367,\n",
      "       5.3776918 ])]\n"
     ]
    }
   ],
   "source": [
    "print(pred)"
   ]
  },
  {
   "cell_type": "code",
   "execution_count": 124,
   "id": "5da77f24-0ab0-40d0-89f7-01304285dd8e",
   "metadata": {},
   "outputs": [],
   "source": [
    "submission = pd.DataFrame(np.exp(pred)).T.mean(axis=1)\n",
    "\n",
    "sample['num_orders'] = np.abs(submission)\n",
    "\n",
    "# Export it to csv \n",
    "sample.to_csv('LRLOGModel.csv',index=False) "
   ]
  },
  {
   "cell_type": "code",
   "execution_count": 127,
   "id": "f7156609-822e-4c79-b2b8-6551042f2ad3",
   "metadata": {},
   "outputs": [
    {
     "name": "stdout",
     "output_type": "stream",
     "text": [
      "0.4949776178602125\n",
      "0.49800313820307596\n",
      "0.49583799944089746\n",
      "0.49508246169107356\n",
      "0.49774129414612306\n"
     ]
    }
   ],
   "source": [
    "#Target Variable is Logy\n",
    "pred=[]\n",
    "for train_index, test_index in kfold.split(dummyx, y):\n",
    "     xtrain = dummyx.iloc[train_index,:]\n",
    "     xtest = dummyx.iloc[test_index,:]\n",
    "     ytrain = logy.iloc[train_index]\n",
    "     ytest = logy.iloc[test_index]\n",
    "# # Model and Prediction\n",
    "     pred_lr = rf.fit(xtrain,ytrain).predict(xtest)\n",
    "     cost = root_mean_squared_error(ytest,pred_lr)\n",
    "     print(cost)\n",
    "# #Final Prediction \n",
    "     pred.append(rf.predict(dummytest)) # "
   ]
  },
  {
   "cell_type": "code",
   "execution_count": 128,
   "id": "e15c3481-58d1-478f-872d-be2247eec903",
   "metadata": {},
   "outputs": [],
   "source": [
    "submission = pd.DataFrame(np.exp(pred)).T.mean(axis=1)\n",
    "\n",
    "sample['num_orders'] = np.abs(submission)\n",
    "\n",
    "# # Export it to csv \n",
    "sample.to_csv('RFModel.csv',index=False) "
   ]
  },
  {
   "cell_type": "code",
   "execution_count": null,
   "id": "c87d80f9-cbf6-4b08-b3b5-d8a8486d5b53",
   "metadata": {},
   "outputs": [],
   "source": []
  }
 ],
 "metadata": {
  "kernelspec": {
   "display_name": "Python [conda env:base] *",
   "language": "python",
   "name": "conda-base-py"
  },
  "language_info": {
   "codemirror_mode": {
    "name": "ipython",
    "version": 3
   },
   "file_extension": ".py",
   "mimetype": "text/x-python",
   "name": "python",
   "nbconvert_exporter": "python",
   "pygments_lexer": "ipython3",
   "version": "3.12.7"
  }
 },
 "nbformat": 4,
 "nbformat_minor": 5
}
